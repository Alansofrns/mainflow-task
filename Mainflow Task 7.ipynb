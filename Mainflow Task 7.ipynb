{
 "cells": [
  {
   "cell_type": "code",
   "execution_count": 2,
   "id": "9404c187-f21a-4047-ae06-5e38d7902d2d",
   "metadata": {},
   "outputs": [],
   "source": [
    "def count_inversions(arr):\n",
    "    def merge_sort(arr):\n",
    "        if len(arr) <= 1:\n",
    "            return arr, 0\n",
    "        mid = len(arr) // 2\n",
    "        left, inv_left = merge_sort(arr[:mid])\n",
    "        right, inv_right = merge_sort(arr[mid:])\n",
    "        merged, inv_merge = merge(left, right)\n",
    "        return merged, inv_left + inv_right + inv_merge\n",
    "\n",
    "    def merge(left, right):\n",
    "        result = []\n",
    "        i = j = inv_count = 0\n",
    "        while i < len(left) and j < len(right):\n",
    "            if left[i] <= right[j]:\n",
    "                result.append(left[i])\n",
    "                i += 1\n",
    "            else:\n",
    "                result.append(right[j])\n",
    "                inv_count += len(left) - i  \n",
    "                j += 1\n",
    "        result.extend(left[i:])\n",
    "        result.extend(right[j:])\n",
    "        return result, inv_count\n",
    "\n",
    "    _, total_inversions = merge_sort(arr)\n",
    "    return total_inversions\n"
   ]
  },
  {
   "cell_type": "code",
   "execution_count": 3,
   "id": "c301f2f5-aab7-4a9e-8369-f0f01673d6a8",
   "metadata": {},
   "outputs": [
    {
     "name": "stdout",
     "output_type": "stream",
     "text": [
      "Number of inversions: 3\n"
     ]
    }
   ],
   "source": [
    "arr = [2, 4, 1, 3, 5]\n",
    "print(\"Number of inversions:\", count_inversions(arr))\n"
   ]
  },
  {
   "cell_type": "code",
   "execution_count": 6,
   "id": "1fa8f31b-81b3-48d1-abe6-f17b55046a17",
   "metadata": {},
   "outputs": [],
   "source": [
    "def longest_palindrome(s):\n",
    "    if not s or len(s) == 1:\n",
    "        return s\n",
    "\n",
    "    start = end = 0\n",
    "\n",
    "    def expand_around_center(left, right):\n",
    "        while left >= 0 and right < len(s) and s[left] == s[right]:\n",
    "            left -= 1\n",
    "            right += 1\n",
    "        return left + 1, right - 1\n",
    "\n",
    "    for i in range(len(s)):\n",
    "    \n",
    "        l1, r1 = expand_around_center(i, i)\n",
    "        l2, r2 = expand_around_center(i, i + 1)\n",
    "\n",
    "        if r1 - l1 > end - start:\n",
    "            start, end = l1, r1\n",
    "        if r2 - l2 > end - start:\n",
    "            start, end = l2, r2\n",
    "\n",
    "    return s[start:end + 1]\n"
   ]
  },
  {
   "cell_type": "code",
   "execution_count": 7,
   "id": "a5fb2851-d67f-40f2-923b-858ce0e4f7c6",
   "metadata": {},
   "outputs": [
    {
     "name": "stdout",
     "output_type": "stream",
     "text": [
      "Longest Palindromic Substring: bab\n"
     ]
    }
   ],
   "source": [
    "s = \"babad\"\n",
    "print(\"Longest Palindromic Substring:\", longest_palindrome(s))\n"
   ]
  },
  {
   "cell_type": "code",
   "execution_count": 8,
   "id": "512150dd-d1fd-4422-85fe-351841556b54",
   "metadata": {},
   "outputs": [],
   "source": [
    "import itertools\n",
    "\n",
    "def tsp_dp(dist):\n",
    "    n = len(dist)\n",
    "    dp = {}\n",
    "\n",
    "    \n",
    "    for k in range(1, n):\n",
    "        dp[(1 << k, k)] = (dist[0][k], [0, k])\n",
    "\n",
    "    \n",
    "    for subset_size in range(2, n):\n",
    "        for subset in itertools.combinations(range(1, n), subset_size):\n",
    "            bits = 0\n",
    "            for bit in subset:\n",
    "                bits |= 1 << bit\n",
    "            for k in subset:\n",
    "                prev = bits & ~(1 << k)\n",
    "                min_dist = float('inf')\n",
    "                min_path = []\n",
    "                for m in subset:\n",
    "                    if m == k:\n",
    "                        continue\n",
    "                    if (prev, m) in dp:\n",
    "                        curr_dist = dp[(prev, m)][0] + dist[m][k]\n",
    "                        if curr_dist < min_dist:\n",
    "                            min_dist = curr_dist\n",
    "                            min_path = dp[(prev, m)][1] + [k]\n",
    "                dp[(bits, k)] = (min_dist, min_path)\n",
    "\n",
    "   \n",
    "    bits = (1 << n) - 2  \n",
    "    min_cost = float('inf')\n",
    "    final_path = []\n",
    "\n",
    "    for k in range(1, n):\n",
    "        if (bits, k) in dp:\n",
    "            cost = dp[(bits, k)][0] + dist[k][0]\n",
    "            if cost < min_cost:\n",
    "                min_cost = cost\n",
    "                final_path = dp[(bits, k)][1] + [0]\n",
    "\n",
    "    return min_cost, final_path\n"
   ]
  },
  {
   "cell_type": "code",
   "execution_count": 9,
   "id": "d08abaf4-1170-4775-a270-584575849b10",
   "metadata": {},
   "outputs": [
    {
     "name": "stdout",
     "output_type": "stream",
     "text": [
      "Minimum TSP cost: 73\n",
      "Optimal path: [0, 3, 1, 2, 0]\n"
     ]
    }
   ],
   "source": [
    "dist_matrix = [\n",
    "    [0, 29, 20, 21],\n",
    "    [29, 0, 15, 17],\n",
    "    [20, 15, 0, 28],\n",
    "    [21, 17, 28, 0]\n",
    "]\n",
    "\n",
    "cost, path = tsp_dp(dist_matrix)\n",
    "print(\"Minimum TSP cost:\", cost)\n",
    "print(\"Optimal path:\", path)\n"
   ]
  },
  {
   "cell_type": "code",
   "execution_count": 10,
   "id": "80b6ab3c-2d47-46ea-8a93-630267821100",
   "metadata": {},
   "outputs": [],
   "source": [
    "def has_cycle(graph):\n",
    "    visited = set()\n",
    "\n",
    "    def dfs(node, parent):\n",
    "        visited.add(node)\n",
    "        for neighbor in graph[node]:\n",
    "            if neighbor not in visited:\n",
    "                if dfs(neighbor, node):\n",
    "                    return True\n",
    "            elif neighbor != parent:\n",
    "                return True\n",
    "        return False\n",
    "\n",
    "    for node in graph:\n",
    "        if node not in visited:\n",
    "            if dfs(node, None):\n",
    "                return True\n",
    "    return False\n"
   ]
  },
  {
   "cell_type": "code",
   "execution_count": 11,
   "id": "4f4f9647-d0b5-423f-860f-36f65ef14dba",
   "metadata": {},
   "outputs": [
    {
     "name": "stdout",
     "output_type": "stream",
     "text": [
      "Cycle in graph_with_cycle: True\n",
      "Cycle in graph_without_cycle: False\n"
     ]
    }
   ],
   "source": [
    "graph_with_cycle = {\n",
    "    0: [1, 2],\n",
    "    1: [0, 2],\n",
    "    2: [0, 1, 3],\n",
    "    3: [2]\n",
    "}\n",
    "\n",
    "graph_without_cycle = {\n",
    "    0: [1],\n",
    "    1: [0, 2],\n",
    "    2: [1, 3],\n",
    "    3: [2]\n",
    "}\n",
    "\n",
    "print(\"Cycle in graph_with_cycle:\", has_cycle(graph_with_cycle))  \n",
    "print(\"Cycle in graph_without_cycle:\", has_cycle(graph_without_cycle)) \n"
   ]
  },
  {
   "cell_type": "code",
   "execution_count": 12,
   "id": "54f0bf92-b4d5-4d65-bd76-08c25e052015",
   "metadata": {},
   "outputs": [],
   "source": [
    "def length_of_longest_substring(s):\n",
    "    char_set = set()\n",
    "    left = 0\n",
    "    max_len = 0\n",
    "\n",
    "    for right in range(len(s)):\n",
    "        while s[right] in char_set:\n",
    "            char_set.remove(s[left])\n",
    "            left += 1\n",
    "        char_set.add(s[right])\n",
    "        max_len = max(max_len, right - left + 1)\n",
    "\n",
    "    return max_len\n"
   ]
  },
  {
   "cell_type": "code",
   "execution_count": 14,
   "id": "cda52ece-b14d-4e59-a8b9-ed05769ef39b",
   "metadata": {},
   "outputs": [
    {
     "name": "stdout",
     "output_type": "stream",
     "text": [
      "3\n",
      "1\n",
      "3\n"
     ]
    }
   ],
   "source": [
    "print(length_of_longest_substring(\"abcabcbb\"))  \n",
    "print(length_of_longest_substring(\"bbbbb\"))     \n",
    "print(length_of_longest_substring(\"pwwkew\"))    "
   ]
  },
  {
   "cell_type": "code",
   "execution_count": 25,
   "id": "0b7b4c2d-7a2d-4532-bcad-d9e297c55d5e",
   "metadata": {},
   "outputs": [],
   "source": [
    "def generate_parentheses(n):\n",
    "    result = []\n",
    "\n",
    "    def backtrack(current, open_count, close_count):\n",
    "        if len(current) == 2 * n:\n",
    "            result.append(current)\n",
    "            return\n",
    "        if open_count < n:\n",
    "            backtrack(current + '(', open_count + 1, close_count)\n",
    "        if close_count < open_count:\n",
    "            backtrack(current + ')', open_count, close_count + 1)\n",
    "\n",
    "    backtrack(\"\", 0, 0)\n",
    "    return result\n"
   ]
  },
  {
   "cell_type": "code",
   "execution_count": 26,
   "id": "eb75a19b-2370-4956-8c1a-0afad25521cd",
   "metadata": {},
   "outputs": [
    {
     "name": "stdout",
     "output_type": "stream",
     "text": [
      "['((()))', '(()())', '(())()', '()(())', '()()()']\n"
     ]
    }
   ],
   "source": [
    "print(generate_parentheses(3))"
   ]
  },
  {
   "cell_type": "code",
   "execution_count": 31,
   "id": "30126202-6fda-45bd-983b-c3ab411767f8",
   "metadata": {},
   "outputs": [],
   "source": [
    "from collections import deque\n",
    "\n",
    "class TreeNode:\n",
    "    def __init__(self, val=0, left=None, right=None):\n",
    "        self.val = val\n",
    "        self.left = left\n",
    "        self.right = right\n",
    "\n",
    "def zigzag_level_order(root):\n",
    "    if not root:\n",
    "        return []\n",
    "\n",
    "    result = []\n",
    "    queue = deque([root])\n",
    "    left_to_right = True\n",
    "\n",
    "    while queue:\n",
    "        level = deque()\n",
    "        for _ in range(len(queue)):\n",
    "            node = queue.popleft()\n",
    "            if left_to_right:\n",
    "                level.append(node.val)\n",
    "            else:\n",
    "                level.appendleft(node.val)\n",
    "\n",
    "            if node.left:\n",
    "                queue.append(node.left)\n",
    "            if node.right:\n",
    "                queue.append(node.right)\n",
    "\n",
    "        result.append(list(level))\n",
    "        left_to_right = not left_to_right\n",
    "\n",
    "    return result\n"
   ]
  },
  {
   "cell_type": "code",
   "execution_count": 32,
   "id": "b8c72cbd-143e-433a-aa9d-446629dee271",
   "metadata": {},
   "outputs": [
    {
     "name": "stdout",
     "output_type": "stream",
     "text": [
      "[[1], [3, 2], [4, 5, 6, 7]]\n"
     ]
    }
   ],
   "source": [
    "\n",
    "\n",
    "tree = TreeNode(1,\n",
    "        TreeNode(2, TreeNode(4), TreeNode(5)),\n",
    "        TreeNode(3, TreeNode(6), TreeNode(7)))\n",
    "\n",
    "output = zigzag_level_order(tree)\n",
    "print(output)\n"
   ]
  },
  {
   "cell_type": "code",
   "execution_count": 33,
   "id": "40b1d6f0-42ec-4b01-a484-06a794941793",
   "metadata": {},
   "outputs": [],
   "source": [
    "def partition(s):\n",
    "    result = []\n",
    "\n",
    "    def is_palindrome(sub):\n",
    "        return sub == sub[::-1]\n",
    "\n",
    "    def backtrack(start, path):\n",
    "        if start == len(s):\n",
    "            result.append(path[:])\n",
    "            return\n",
    "        for end in range(start + 1, len(s) + 1):\n",
    "            prefix = s[start:end]\n",
    "            if is_palindrome(prefix):\n",
    "                path.append(prefix)\n",
    "                backtrack(end, path)\n",
    "                path.pop()\n",
    "\n",
    "    backtrack(0, [])\n",
    "    return result\n"
   ]
  },
  {
   "cell_type": "code",
   "execution_count": 34,
   "id": "d09f5b32-6718-483f-81ea-9fb1021c67de",
   "metadata": {},
   "outputs": [
    {
     "name": "stdout",
     "output_type": "stream",
     "text": [
      "[['a', 'a', 'b'], ['aa', 'b']]\n"
     ]
    }
   ],
   "source": [
    "s = \"aab\"\n",
    "print(partition(s))\n"
   ]
  },
  {
   "cell_type": "code",
   "execution_count": null,
   "id": "8385f657-cb2a-4ba6-990a-41b085975b10",
   "metadata": {},
   "outputs": [],
   "source": []
  }
 ],
 "metadata": {
  "kernelspec": {
   "display_name": "Python [conda env:base] *",
   "language": "python",
   "name": "conda-base-py"
  },
  "language_info": {
   "codemirror_mode": {
    "name": "ipython",
    "version": 3
   },
   "file_extension": ".py",
   "mimetype": "text/x-python",
   "name": "python",
   "nbconvert_exporter": "python",
   "pygments_lexer": "ipython3",
   "version": "3.12.7"
  }
 },
 "nbformat": 4,
 "nbformat_minor": 5
}
