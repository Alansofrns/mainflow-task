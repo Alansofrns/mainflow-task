{
 "cells": [
  {
   "cell_type": "code",
   "execution_count": 1,
   "id": "b495a4b0-5fb6-4ac6-bdd3-f962d4dcd7ae",
   "metadata": {},
   "outputs": [],
   "source": [
    "def is_valid_sudoku(board):\n",
    "    def is_valid_group(group):\n",
    "        nums = [num for num in group if num != \".\"]\n",
    "        return len(nums) == len(set(nums))\n",
    "    \n",
    "    for row in board:\n",
    "        if not is_valid_group(row):\n",
    "            return False\n",
    "\n",
    "    for col in range(9):\n",
    "        if not is_valid_group([board[row][col] for row in range(9)]):\n",
    "            return False\n",
    "    \n",
    "    for box_row in range(0, 9, 3):\n",
    "        for box_col in range(0, 9, 3):\n",
    "            grid = []\n",
    "            for i in range(3):\n",
    "                for j in range(3):\n",
    "                    grid.append(board[box_row + i][box_col + j])\n",
    "            if not is_valid_group(grid):\n",
    "                return False\n",
    "    \n",
    "    return True"
   ]
  },
  {
   "cell_type": "code",
   "execution_count": 2,
   "id": "8c5c73f2-1e86-44f3-bd80-6f89e9f93c38",
   "metadata": {},
   "outputs": [
    {
     "name": "stdout",
     "output_type": "stream",
     "text": [
      "True\n"
     ]
    }
   ],
   "source": [
    "sudoku_board = [\n",
    "    [\"5\",\"3\",\".\",\".\",\"7\",\".\",\".\",\".\",\".\"],\n",
    "    [\"6\",\".\",\".\",\"1\",\"9\",\"5\",\".\",\".\",\".\"],\n",
    "    [\".\",\"9\",\"8\",\".\",\".\",\".\",\".\",\"6\",\".\"],\n",
    "    [\"8\",\".\",\".\",\".\",\"6\",\".\",\".\",\".\",\"3\"],\n",
    "    [\"4\",\".\",\".\",\"8\",\".\",\"3\",\".\",\".\",\"1\"],\n",
    "    [\"7\",\".\",\".\",\".\",\"2\",\".\",\".\",\".\",\"6\"],\n",
    "    [\".\",\"6\",\".\",\".\",\".\",\".\",\"2\",\"8\",\".\"],\n",
    "    [\".\",\".\",\".\",\"4\",\"1\",\"9\",\".\",\".\",\"5\"],\n",
    "    [\".\",\".\",\".\",\".\",\"8\",\".\",\".\",\"7\",\"9\"]\n",
    "]\n",
    "\n",
    "print(is_valid_sudoku(sudoku_board))  \n"
   ]
  },
  {
   "cell_type": "code",
   "execution_count": 3,
   "id": "7cf34fd6-c466-4b81-b889-2fcbf96a2310",
   "metadata": {},
   "outputs": [],
   "source": [
    "def word_frequency(text):\n",
    "    words = text.lower().split()  \n",
    "    freq = {}\n",
    "    \n",
    "    for word in words:\n",
    "        word = word.strip('.,!?()\"\\'')  \n",
    "        if word in freq:\n",
    "            freq[word] += 1\n",
    "        else:\n",
    "            freq[word] = 1\n",
    "    \n",
    "    return freq\n"
   ]
  },
  {
   "cell_type": "code",
   "execution_count": 6,
   "id": "23b742e6-ca7d-4f5a-9db7-d493aaf7c34b",
   "metadata": {},
   "outputs": [
    {
     "name": "stdout",
     "output_type": "stream",
     "text": [
      "{'hello': 2, 'world': 2, 'again': 1}\n"
     ]
    }
   ],
   "source": [
    "text = \"Hello world! Hello again, world.\"\n",
    "result = word_frequency(text)\n",
    "print(result)\n"
   ]
  },
  {
   "cell_type": "code",
   "execution_count": 7,
   "id": "0c231a7d-5faa-4b36-b7ac-e6728b32fb98",
   "metadata": {},
   "outputs": [],
   "source": [
    "def knapsack_01(weights, values, capacity):\n",
    "    n = len(weights)\n",
    "    \n",
    "    dp = [[0 for _ in range(capacity + 1)] for _ in range(n + 1)]\n",
    "\n",
    "    for i in range(1, n + 1):\n",
    "        for w in range(1, capacity + 1):\n",
    "            if weights[i - 1] <= w:\n",
    "               \n",
    "                dp[i][w] = max(\n",
    "                    values[i - 1] + dp[i - 1][w - weights[i - 1]],\n",
    "                    dp[i - 1][w]\n",
    "                )\n",
    "            else:\n",
    "               \n",
    "                dp[i][w] = dp[i - 1][w]\n",
    "\n",
    "    return dp[n][capacity]\n"
   ]
  },
  {
   "cell_type": "code",
   "execution_count": 8,
   "id": "0d3d0cf4-4d66-4f94-bf44-e9abf8e7eaad",
   "metadata": {},
   "outputs": [
    {
     "name": "stdout",
     "output_type": "stream",
     "text": [
      "Maximum value: 7\n"
     ]
    }
   ],
   "source": [
    "weights = [2, 3, 4, 5]\n",
    "values = [3, 4, 5, 6]\n",
    "capacity = 5\n",
    "\n",
    "max_value = knapsack_01(weights, values, capacity)\n",
    "print(\"Maximum value:\", max_value)\n"
   ]
  },
  {
   "cell_type": "code",
   "execution_count": 11,
   "id": "fc6b3428-d0f0-47df-9290-06e75f8f1828",
   "metadata": {},
   "outputs": [],
   "source": [
    "def merge_intervals(intervals):\n",
    "    if not intervals:\n",
    "        return []\n",
    "    \n",
    "    intervals.sort(key=lambda x: x[0])\n",
    "    \n",
    "    merged = [intervals[0]]\n",
    "    \n",
    "    for current in intervals[1:]:\n",
    "        last = merged[-1]\n",
    "        if current[0] <= last[1]:  \n",
    "            last[1] = max(last[1], current[1])\n",
    "        else:\n",
    "            merged.append(current)\n",
    "    \n",
    "    return merged\n"
   ]
  },
  {
   "cell_type": "code",
   "execution_count": 12,
   "id": "75c36018-c0a9-4b43-b580-7eb1018d91b6",
   "metadata": {},
   "outputs": [
    {
     "name": "stdout",
     "output_type": "stream",
     "text": [
      "Merged Intervals: [[1, 6], [8, 10], [15, 18]]\n"
     ]
    }
   ],
   "source": [
    "intervals = [[1, 3], [2, 6], [8, 10], [15, 18]]\n",
    "result = merge_intervals(intervals)\n",
    "print(\"Merged Intervals:\", result)\n"
   ]
  },
  {
   "cell_type": "code",
   "execution_count": 13,
   "id": "c3ec7c6a-30c2-47f5-9dae-9802f483416a",
   "metadata": {},
   "outputs": [],
   "source": [
    "def find_median_sorted_arrays(nums1, nums2):\n",
    "    merged = sorted(nums1 + nums2)\n",
    "    n = len(merged)\n",
    "    \n",
    "    if n % 2 == 1:\n",
    "        return merged[n // 2]\n",
    "    else:\n",
    "        return (merged[n // 2 - 1] + merged[n // 2]) / 2\n"
   ]
  },
  {
   "cell_type": "code",
   "execution_count": 14,
   "id": "b2915447-8812-486b-a46f-38ac7369559e",
   "metadata": {},
   "outputs": [
    {
     "name": "stdout",
     "output_type": "stream",
     "text": [
      "Median: 2\n"
     ]
    }
   ],
   "source": [
    "nums1 = [1, 3]\n",
    "nums2 = [2]\n",
    "print(\"Median:\", find_median_sorted_arrays(nums1, nums2))  \n"
   ]
  },
  {
   "cell_type": "code",
   "execution_count": 15,
   "id": "2d66d18b-8190-4eee-b1a9-62dd61b571c8",
   "metadata": {},
   "outputs": [],
   "source": [
    "def maximal_rectangle(matrix):\n",
    "    if not matrix or not matrix[0]:\n",
    "        return 0\n",
    "\n",
    "    def largest_rectangle_area(heights):\n",
    "        stack = []\n",
    "        max_area = 0\n",
    "        heights.append(0)  \n",
    "\n",
    "        for i, h in enumerate(heights):\n",
    "            while stack and heights[stack[-1]] > h:\n",
    "                height = heights[stack.pop()]\n",
    "                width = i if not stack else i - stack[-1] - 1\n",
    "                max_area = max(max_area, height * width)\n",
    "            stack.append(i)\n",
    "\n",
    "        heights.pop()  \n",
    "        return max_area\n",
    "\n",
    "    cols = len(matrix[0])\n",
    "    heights = [0] * cols\n",
    "    max_rectangle = 0\n",
    "\n",
    "    for row in matrix:\n",
    "        for i in range(cols):\n",
    "            if row[i] == '1' or row[i] == 1:\n",
    "                heights[i] += 1\n",
    "            else:\n",
    "                heights[i] = 0\n",
    "        max_rectangle = max(max_rectangle, largest_rectangle_area(heights))\n",
    "\n",
    "    return max_rectangle\n"
   ]
  },
  {
   "cell_type": "code",
   "execution_count": 16,
   "id": "5e0cb385-49de-422c-8a81-1836cee39681",
   "metadata": {},
   "outputs": [
    {
     "name": "stdout",
     "output_type": "stream",
     "text": [
      "Max Rectangle Area: 6\n"
     ]
    }
   ],
   "source": [
    "matrix = [\n",
    "    [\"1\", \"0\", \"1\", \"0\", \"0\"],\n",
    "    [\"1\", \"0\", \"1\", \"1\", \"1\"],\n",
    "    [\"1\", \"1\", \"1\", \"1\", \"1\"],\n",
    "    [\"1\", \"0\", \"0\", \"1\", \"0\"]\n",
    "]\n",
    "\n",
    "print(\"Max Rectangle Area:\", maximal_rectangle(matrix))  "
   ]
  },
  {
   "cell_type": "code",
   "execution_count": 17,
   "id": "88770947-19b5-47bc-ace4-a9c7f321bb1d",
   "metadata": {},
   "outputs": [],
   "source": [
    "def max_subarray_sum(nums):\n",
    "    if not nums:\n",
    "        return 0\n",
    "\n",
    "    max_current = max_global = nums[0]\n",
    "\n",
    "    for num in nums[1:]:\n",
    "        max_current = max(num, max_current + num)\n",
    "        max_global = max(max_global, max_current)\n",
    "\n",
    "    return max_global"
   ]
  },
  {
   "cell_type": "code",
   "execution_count": 22,
   "id": "b2939427-1924-4631-b23c-896fd0cd200c",
   "metadata": {},
   "outputs": [
    {
     "name": "stdout",
     "output_type": "stream",
     "text": [
      "Maximum Subarray Sum: 6\n"
     ]
    }
   ],
   "source": [
    "nums = [-2, 1, -3, 4, -1, 2, 1, -5, 4]\n",
    "print(\"Maximum Subarray Sum:\", max_subarray_sum(nums))  \n"
   ]
  },
  {
   "cell_type": "code",
   "execution_count": 3,
   "id": "073d701c-4a75-4727-93ca-3789f149eced",
   "metadata": {},
   "outputs": [],
   "source": [
    "from collections import deque\n",
    "\n",
    "def word_ladder_length(beginWord, endWord, wordList):\n",
    "    word_set = set(wordList)\n",
    "    if endWord not in word_set:\n",
    "        return 0\n",
    "\n",
    "    queue = deque()\n",
    "    queue.append((beginWord, 1)) \n",
    "\n",
    "    while queue:\n",
    "        current_word, length = queue.popleft()\n",
    "        \n",
    "        if current_word == endWord:\n",
    "            return length\n",
    "\n",
    "        for i in range(len(current_word)):\n",
    "            for c in 'abcdefghijklmnopqrstuvwxyz':\n",
    "                next_word = current_word[:i] + c + current_word[i+1:]\n",
    "                if next_word in word_set:\n",
    "                    word_set.remove(next_word)  \n",
    "                    queue.append((next_word, length + 1))\n",
    "    \n",
    "    return 0  "
   ]
  },
  {
   "cell_type": "code",
   "execution_count": 4,
   "id": "9cf3696d-6fce-48ae-b56e-a64b9d217dd8",
   "metadata": {},
   "outputs": [
    {
     "name": "stdout",
     "output_type": "stream",
     "text": [
      "Shortest transformation length: 5\n"
     ]
    }
   ],
   "source": [
    "begin = \"hit\"\n",
    "end = \"cog\"\n",
    "dictionary = [\"hot\", \"dot\", \"dog\", \"lot\", \"log\", \"cog\"]\n",
    "\n",
    "print(\"Shortest transformation length:\", word_ladder_length(begin, end, dictionary))\n"
   ]
  },
  {
   "cell_type": "code",
   "execution_count": 5,
   "id": "603fa872-d1bb-461a-b189-b33a2c30ebe1",
   "metadata": {},
   "outputs": [],
   "source": [
    "import random\n",
    "import pickle\n",
    "\n",
    "class Character:\n",
    "    def __init__(self, name, hp, attack, defense):\n",
    "        self.name = name\n",
    "        self.hp = hp\n",
    "        self.attack = attack\n",
    "        self.defense = defense\n",
    "\n",
    "    def is_alive(self):\n",
    "        return self.hp > 0\n",
    "\n",
    "    def take_damage(self, damage):\n",
    "        self.hp -= max(0, damage - self.defense)\n",
    "\n",
    "class Player(Character):\n",
    "    def __init__(self, name):\n",
    "        super().__init__(name, hp=100, attack=15, defense=5)\n",
    "        self.inventory = []\n",
    "        self.location = 'Town'\n",
    "\n",
    "    def heal(self):\n",
    "        self.hp = 100\n",
    "        print(\"You are fully healed.\")\n",
    "\n",
    "class Enemy(Character):\n",
    "    def __init__(self, name, hp, attack, defense):\n",
    "        super().__init__(name, hp, attack, defense)\n",
    "\n",
    "world_map = {\n",
    "    'Town': ['Forest', 'Dungeon'],\n",
    "    'Forest': ['Town'],\n",
    "    'Dungeon': ['Town']\n",
    "}\n",
    "\n",
    "items = {\n",
    "    'Sword': {'attack': 5},\n",
    "    'Shield': {'defense': 5},\n",
    "    'Potion': {'heal': 30}\n",
    "}\n",
    "\n",
    "def show_status(player):\n",
    "    print(f\"\\n=== {player.name}'s Status ===\")\n",
    "    print(f\"Location: {player.location}\")\n",
    "    print(f\"HP: {player.hp}\")\n",
    "    print(f\"Attack: {player.attack}\")\n",
    "    print(f\"Defense: {player.defense}\")\n",
    "    print(f\"Inventory: {player.inventory}\")\n",
    "\n",
    "def travel(player, destination):\n",
    "    if destination in world_map[player.location]:\n",
    "        player.location = destination\n",
    "        print(f\"You traveled to {destination}.\")\n",
    "    else:\n",
    "        print(\"You can't go there from here.\")\n",
    "\n",
    "def encounter_enemy():\n",
    "    enemies = [\n",
    "        Enemy(\"Goblin\", 30, 10, 2),\n",
    "        Enemy(\"Orc\", 50, 12, 4),\n",
    "        Enemy(\"Troll\", 70, 15, 5)\n",
    "    ]\n",
    "    return random.choice(enemies)\n",
    "\n",
    "def combat(player, enemy):\n",
    "    print(f\"\\n⚔️ A wild {enemy.name} appears!\")\n",
    "    while player.is_alive() and enemy.is_alive():\n",
    "        action = input(\"Choose action: (A)ttack / (R)un: \").lower()\n",
    "        if action == 'a':\n",
    "            enemy.take_damage(player.attack)\n",
    "            print(f\"You attack {enemy.name}. Enemy HP: {enemy.hp}\")\n",
    "            if enemy.is_alive():\n",
    "                player.take_damage(enemy.attack)\n",
    "                print(f\"{enemy.name} attacks you. Your HP: {player.hp}\")\n",
    "        elif action == 'r':\n",
    "            print(\"You ran away safely!\")\n",
    "            return\n",
    "        else:\n",
    "            print(\"Invalid action!\")\n",
    "\n",
    "    if player.is_alive():\n",
    "        print(f\"✅ You defeated {enemy.name}!\")\n",
    "        loot = random.choice(list(items.keys()))\n",
    "        player.inventory.append(loot)\n",
    "        print(f\"You found a {loot}!\")\n",
    "    else:\n",
    "        print(\"❌ You were defeated... Game over!\")\n",
    "\n",
    "def use_item(player, item):\n",
    "    if item in player.inventory:\n",
    "        if item == 'Potion':\n",
    "            player.hp = min(100, player.hp + items[item]['heal'])\n",
    "            print(\"You used a potion and healed!\")\n",
    "            player.inventory.remove(item)\n",
    "        elif item == 'Sword':\n",
    "            player.attack += items[item]['attack']\n",
    "            print(\"You equipped a Sword.\")\n",
    "            player.inventory.remove(item)\n",
    "        elif item == 'Shield':\n",
    "            player.defense += items[item]['defense']\n",
    "            print(\"You equipped a Shield.\")\n",
    "            player.inventory.remove(item)\n",
    "    else:\n",
    "        print(\"You don't have that item.\")\n",
    "\n",
    "def save_game(player):\n",
    "    with open(\"savegame.pkl\", \"wb\") as file:\n",
    "        pickle.dump(player, file)\n",
    "    print(\"💾 Game saved.\")\n",
    "\n",
    "def load_game():\n",
    "    try:\n",
    "        with open(\"savegame.pkl\", \"rb\") as file:\n",
    "            player = pickle.load(file)\n",
    "        print(\"📂 Game loaded.\")\n",
    "        return player\n",
    "    except FileNotFoundError:\n",
    "        print(\"No saved game found.\")\n",
    "        return None\n"
   ]
  },
  {
   "cell_type": "code",
   "execution_count": 7,
   "id": "d59d0878-6d86-45b2-b6db-14ac58e20320",
   "metadata": {},
   "outputs": [
    {
     "name": "stdout",
     "output_type": "stream",
     "text": [
      "🎮 Welcome to the Command-Line RPG!\n"
     ]
    },
    {
     "name": "stdin",
     "output_type": "stream",
     "text": [
      "Start new game or load? (N/L):  n\n",
      "Enter your name:  Tom\n"
     ]
    },
    {
     "name": "stdout",
     "output_type": "stream",
     "text": [
      "\n",
      "=== Tom's Status ===\n",
      "Location: Town\n",
      "HP: 100\n",
      "Attack: 15\n",
      "Defense: 5\n",
      "Inventory: []\n",
      "\n",
      "Options: [T]ravel [F]ight [U]se item [S]ave [Q]uit\n"
     ]
    },
    {
     "name": "stdin",
     "output_type": "stream",
     "text": [
      "What do you want to do?  f\n"
     ]
    },
    {
     "name": "stdout",
     "output_type": "stream",
     "text": [
      "\n",
      "⚔️ A wild Troll appears!\n"
     ]
    },
    {
     "name": "stdin",
     "output_type": "stream",
     "text": [
      "Choose action: (A)ttack / (R)un:  a\n"
     ]
    },
    {
     "name": "stdout",
     "output_type": "stream",
     "text": [
      "You attack Troll. Enemy HP: 60\n",
      "Troll attacks you. Your HP: 90\n"
     ]
    },
    {
     "name": "stdin",
     "output_type": "stream",
     "text": [
      "Choose action: (A)ttack / (R)un:  a\n"
     ]
    },
    {
     "name": "stdout",
     "output_type": "stream",
     "text": [
      "You attack Troll. Enemy HP: 50\n",
      "Troll attacks you. Your HP: 80\n"
     ]
    },
    {
     "name": "stdin",
     "output_type": "stream",
     "text": [
      "Choose action: (A)ttack / (R)un:  a\n"
     ]
    },
    {
     "name": "stdout",
     "output_type": "stream",
     "text": [
      "You attack Troll. Enemy HP: 40\n",
      "Troll attacks you. Your HP: 70\n"
     ]
    },
    {
     "name": "stdin",
     "output_type": "stream",
     "text": [
      "Choose action: (A)ttack / (R)un:  a\n"
     ]
    },
    {
     "name": "stdout",
     "output_type": "stream",
     "text": [
      "You attack Troll. Enemy HP: 30\n",
      "Troll attacks you. Your HP: 60\n"
     ]
    },
    {
     "name": "stdin",
     "output_type": "stream",
     "text": [
      "Choose action: (A)ttack / (R)un:  a\n"
     ]
    },
    {
     "name": "stdout",
     "output_type": "stream",
     "text": [
      "You attack Troll. Enemy HP: 20\n",
      "Troll attacks you. Your HP: 50\n"
     ]
    },
    {
     "name": "stdin",
     "output_type": "stream",
     "text": [
      "Choose action: (A)ttack / (R)un:  a\n"
     ]
    },
    {
     "name": "stdout",
     "output_type": "stream",
     "text": [
      "You attack Troll. Enemy HP: 10\n",
      "Troll attacks you. Your HP: 40\n"
     ]
    },
    {
     "name": "stdin",
     "output_type": "stream",
     "text": [
      "Choose action: (A)ttack / (R)un:  a\n"
     ]
    },
    {
     "name": "stdout",
     "output_type": "stream",
     "text": [
      "You attack Troll. Enemy HP: 0\n",
      "✅ You defeated Troll!\n",
      "You found a Sword!\n",
      "\n",
      "=== Tom's Status ===\n",
      "Location: Town\n",
      "HP: 40\n",
      "Attack: 15\n",
      "Defense: 5\n",
      "Inventory: ['Sword']\n",
      "\n",
      "Options: [T]ravel [F]ight [U]se item [S]ave [Q]uit\n"
     ]
    },
    {
     "name": "stdin",
     "output_type": "stream",
     "text": [
      "What do you want to do?  s\n"
     ]
    },
    {
     "name": "stdout",
     "output_type": "stream",
     "text": [
      "💾 Game saved.\n",
      "\n",
      "=== Tom's Status ===\n",
      "Location: Town\n",
      "HP: 40\n",
      "Attack: 15\n",
      "Defense: 5\n",
      "Inventory: ['Sword']\n",
      "\n",
      "Options: [T]ravel [F]ight [U]se item [S]ave [Q]uit\n"
     ]
    },
    {
     "name": "stdin",
     "output_type": "stream",
     "text": [
      "What do you want to do?  t\n"
     ]
    },
    {
     "name": "stdout",
     "output_type": "stream",
     "text": [
      "Where do you want to go? ['Forest', 'Dungeon']\n"
     ]
    },
    {
     "name": "stdin",
     "output_type": "stream",
     "text": [
      "Enter destination:  Forest\n"
     ]
    },
    {
     "name": "stdout",
     "output_type": "stream",
     "text": [
      "You traveled to Forest.\n",
      "\n",
      "=== Tom's Status ===\n",
      "Location: Forest\n",
      "HP: 40\n",
      "Attack: 15\n",
      "Defense: 5\n",
      "Inventory: ['Sword']\n",
      "\n",
      "Options: [T]ravel [F]ight [U]se item [S]ave [Q]uit\n"
     ]
    },
    {
     "name": "stdin",
     "output_type": "stream",
     "text": [
      "What do you want to do?  u\n"
     ]
    },
    {
     "name": "stdout",
     "output_type": "stream",
     "text": [
      "Your inventory: ['Sword']\n"
     ]
    },
    {
     "name": "stdin",
     "output_type": "stream",
     "text": [
      "Enter item to use:  Shield\n"
     ]
    },
    {
     "name": "stdout",
     "output_type": "stream",
     "text": [
      "You don't have that item.\n",
      "\n",
      "=== Tom's Status ===\n",
      "Location: Forest\n",
      "HP: 40\n",
      "Attack: 15\n",
      "Defense: 5\n",
      "Inventory: ['Sword']\n",
      "\n",
      "Options: [T]ravel [F]ight [U]se item [S]ave [Q]uit\n"
     ]
    },
    {
     "name": "stdin",
     "output_type": "stream",
     "text": [
      "What do you want to do?  s\n"
     ]
    },
    {
     "name": "stdout",
     "output_type": "stream",
     "text": [
      "💾 Game saved.\n",
      "\n",
      "=== Tom's Status ===\n",
      "Location: Forest\n",
      "HP: 40\n",
      "Attack: 15\n",
      "Defense: 5\n",
      "Inventory: ['Sword']\n",
      "\n",
      "Options: [T]ravel [F]ight [U]se item [S]ave [Q]uit\n"
     ]
    },
    {
     "name": "stdin",
     "output_type": "stream",
     "text": [
      "What do you want to do?  q\n"
     ]
    },
    {
     "name": "stdout",
     "output_type": "stream",
     "text": [
      "👋 Goodbye!\n"
     ]
    }
   ],
   "source": [
    "def main():\n",
    "    print(\"🎮 Welcome to the Command-Line RPG!\")\n",
    "    option = input(\"Start new game or load? (N/L): \").lower()\n",
    "    \n",
    "    if option == 'l':\n",
    "        player = load_game()\n",
    "        if player is None:\n",
    "            name = input(\"Enter your name: \")\n",
    "            player = Player(name)\n",
    "    else:\n",
    "        name = input(\"Enter your name: \")\n",
    "        player = Player(name)\n",
    "\n",
    "    while player.is_alive():\n",
    "        show_status(player)\n",
    "        print(\"\\nOptions: [T]ravel [F]ight [U]se item [S]ave [Q]uit\")\n",
    "        choice = input(\"What do you want to do? \").lower()\n",
    "\n",
    "        if choice == 't':\n",
    "            print(f\"Where do you want to go? {world_map[player.location]}\")\n",
    "            dest = input(\"Enter destination: \").title()\n",
    "            travel(player, dest)\n",
    "        elif choice == 'f':\n",
    "            enemy = encounter_enemy()\n",
    "            combat(player, enemy)\n",
    "        elif choice == 'u':\n",
    "            print(f\"Your inventory: {player.inventory}\")\n",
    "            item = input(\"Enter item to use: \").title()\n",
    "            use_item(player, item)\n",
    "        elif choice == 's':\n",
    "            save_game(player)\n",
    "        elif choice == 'q':\n",
    "            print(\"👋 Goodbye!\")\n",
    "            break\n",
    "        else:\n",
    "            print(\"Invalid option!\")\n",
    "\n",
    "main()\n"
   ]
  },
  {
   "cell_type": "code",
   "execution_count": null,
   "id": "ac836965-cdc1-4584-bc26-c2db612eb0f6",
   "metadata": {},
   "outputs": [],
   "source": []
  }
 ],
 "metadata": {
  "kernelspec": {
   "display_name": "Python [conda env:base] *",
   "language": "python",
   "name": "conda-base-py"
  },
  "language_info": {
   "codemirror_mode": {
    "name": "ipython",
    "version": 3
   },
   "file_extension": ".py",
   "mimetype": "text/x-python",
   "name": "python",
   "nbconvert_exporter": "python",
   "pygments_lexer": "ipython3",
   "version": "3.12.7"
  }
 },
 "nbformat": 4,
 "nbformat_minor": 5
}
