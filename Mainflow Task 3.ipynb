{
 "cells": [
  {
   "cell_type": "code",
   "execution_count": 6,
   "id": "c74806b4-f352-4ae4-bdd2-816dacf1a13a",
   "metadata": {},
   "outputs": [
    {
     "name": "stdout",
     "output_type": "stream",
     "text": [
      "5 x 1 = 5\n",
      "5 x 2 = 10\n",
      "5 x 3 = 15\n",
      "5 x 4 = 20\n",
      "5 x 5 = 25\n",
      "5 x 6 = 30\n",
      "5 x 7 = 35\n",
      "5 x 8 = 40\n",
      "5 x 9 = 45\n",
      "5 x 10 = 50\n"
     ]
    }
   ],
   "source": [
    "#Task 17: Table of a Number\n",
    "def multiplication_table(n):\n",
    "    for i in range(1, 11):\n",
    "        print(f\"{n} x {i} = {n * i}\")\n",
    "\n",
    "n = 5\n",
    "multiplication_table(n)\n"
   ]
  },
  {
   "cell_type": "code",
   "execution_count": 8,
   "id": "6422c319-ffc7-4548-bd87-daeba94825ed",
   "metadata": {},
   "outputs": [
    {
     "name": "stdout",
     "output_type": "stream",
     "text": [
      "After swapping: a = 7 , b = 3\n"
     ]
    }
   ],
   "source": [
    "#Task 18: Swap Two Numbers\n",
    "def swap_numbers(a, b) :\n",
    "    a, b = b, a\n",
    "    print(f\"After swapping: a = {a} , b = {b}\")\n",
    "\n",
    "a, b = 3, 7\n",
    "swap_numbers(a, b)\n"
   ]
  },
  {
   "cell_type": "code",
   "execution_count": 9,
   "id": "3fe6cc31-89f6-4ec6-ae33-b08cdd4d5a7d",
   "metadata": {},
   "outputs": [
    {
     "name": "stdout",
     "output_type": "stream",
     "text": [
      "Is 'world' a substring of 'hello world'? True\n"
     ]
    }
   ],
   "source": [
    "#Task 19: Check Substring\n",
    "def is_substring(s1, s2):\n",
    "    return s2 in s1\n",
    "\n",
    "s1 = \"hello world\"\n",
    "s2 = \"world\"\n",
    "print(f\"Is '{s2}' a substring of '{s1}'? {is_substring(s1, s2)}\")"
   ]
  },
  {
   "cell_type": "code",
   "execution_count": 11,
   "id": "34fef060-0ae5-493d-b03b-d770d644d2cc",
   "metadata": {},
   "outputs": [
    {
     "name": "stdout",
     "output_type": "stream",
     "text": [
      "Binary representation of 10: 1010\n"
     ]
    }
   ],
   "source": [
    "#Task 20: Decimal to Binary\n",
    "def decimal_to_binary(n):\n",
    "    return bin(n)[2:]\n",
    "\n",
    "n = 10\n",
    "print(f\"Binary representation of {n}: {decimal_to_binary(n)}\")"
   ]
  },
  {
   "cell_type": "code",
   "execution_count": 13,
   "id": "890be063-5b44-4cd0-96d5-b659e017af73",
   "metadata": {},
   "outputs": [
    {
     "name": "stdout",
     "output_type": "stream",
     "text": [
      "Matrix Addition Result:\n",
      "[[6, 8], [10, 12]]\n"
     ]
    }
   ],
   "source": [
    "#Task 21: Matrix Addition\n",
    "def add_matrices(a, b):\n",
    "    result =[[a[i][j] + b[i][j] for j in range(len(a[0]))] for i in range(len(a))]\n",
    "    return result\n",
    "\n",
    "\n",
    "a = [[1, 2], [3, 4]]\n",
    "b = [[5, 6], [7, 8]]\n",
    "print(\"Matrix Addition Result:\")\n",
    "print(add_matrices(a, b))"
   ]
  },
  {
   "cell_type": "code",
   "execution_count": 14,
   "id": "6bef9444-1a6b-4c5d-b0a6-ca04886ac1ed",
   "metadata": {},
   "outputs": [
    {
     "name": "stdout",
     "output_type": "stream",
     "text": [
      "Product Matrix (A x B):\n",
      "[19, 22]\n",
      "[43, 50]\n"
     ]
    }
   ],
   "source": [
    "A = [\n",
    "    [1, 2],\n",
    "    [3, 4]\n",
    "]\n",
    "B = [\n",
    "    [5, 6],\n",
    "    [7, 8]\n",
    "]\n",
    "\n",
    "rows_A = len(A)\n",
    "cols_A = len(A[0])\n",
    "rows_B = len(B)\n",
    "cols_B = len(B[0])\n",
    "\n",
    "if cols_A != rows_B:\n",
    "    print(\"Matrix multiplication not possible: Columns of A must equal rows of B.\")\n",
    "else:\n",
    "    result = [[0 for _ in range(cols_B)] for _ in range(rows_A)]\n",
    "    for i in range(rows_A):\n",
    "        \n",
    "        for j in range(cols_B):\n",
    "            for k in range(cols_A):  # or rows_B\n",
    "                result[i][j] += A[i][k] * B[k][j]\n",
    "\n",
    "    print(\"Product Matrix (A x B):\")\n",
    "    for row in result:\n",
    "        print(row)"
   ]
  },
  {
   "cell_type": "code",
   "execution_count": 16,
   "id": "38084c3b-dfa1-4f5e-b04f-a9c343432276",
   "metadata": {},
   "outputs": [
    {
     "name": "stdout",
     "output_type": "stream",
     "text": [
      "Second largest number: 20\n"
     ]
    }
   ],
   "source": [
    "#Task 23: Find Second Largest\n",
    "def second_largest(lst):\n",
    "    unique_sorted = sorted(set(lst), reverse=True)\n",
    "    return unique_sorted[1] if len(unique_sorted) > 1 else None\n",
    "\n",
    "\n",
    "lst = [10,20,20,30]\n",
    "print(f\"Second largest number: {second_largest(lst)}\")"
   ]
  },
  {
   "cell_type": "code",
   "execution_count": 17,
   "id": "852925cc-52eb-499e-83bf-db7cff424f66",
   "metadata": {},
   "outputs": [
    {
     "name": "stdout",
     "output_type": "stream",
     "text": [
      "Are 'listen' and 'silent' anagrams? True\n"
     ]
    }
   ],
   "source": [
    "#Task 24: Check Anagram\n",
    "def are_anagrams(s1, s2):\n",
    "    return sorted(s1) == sorted(s2)\n",
    "\n",
    "# Example\n",
    "s1 = \"listen\"\n",
    "s2 = \"silent\"\n",
    "print(f\"Are '{s1}' and '{s2}' anagrams? {are_anagrams(s1, s2)}\")"
   ]
  },
  {
   "cell_type": "code",
   "execution_count": 19,
   "id": "788d0392-af1c-46c5-8e6c-606c37949441",
   "metadata": {},
   "outputs": [
    {
     "name": "stdout",
     "output_type": "stream",
     "text": [
      "You: X  |  Computer: O\n",
      "\n",
      "  |   |  \n",
      "--+---+--\n",
      "  |   |  \n",
      "--+---+--\n",
      "  |   |  \n",
      "\n"
     ]
    },
    {
     "name": "stdin",
     "output_type": "stream",
     "text": [
      "Enter position (1-9):  1\n"
     ]
    },
    {
     "name": "stdout",
     "output_type": "stream",
     "text": [
      "\n",
      "X |   |  \n",
      "--+---+--\n",
      "  |   |  \n",
      "--+---+--\n",
      "  |   |  \n",
      "\n",
      "Computer's turn...\n",
      "\n",
      "X |   |  \n",
      "--+---+--\n",
      "  | O |  \n",
      "--+---+--\n",
      "  |   |  \n",
      "\n"
     ]
    },
    {
     "name": "stdin",
     "output_type": "stream",
     "text": [
      "Enter position (1-9):  3\n"
     ]
    },
    {
     "name": "stdout",
     "output_type": "stream",
     "text": [
      "\n",
      "X |   | X\n",
      "--+---+--\n",
      "  | O |  \n",
      "--+---+--\n",
      "  |   |  \n",
      "\n",
      "Computer's turn...\n",
      "\n",
      "X | O | X\n",
      "--+---+--\n",
      "  | O |  \n",
      "--+---+--\n",
      "  |   |  \n",
      "\n"
     ]
    },
    {
     "name": "stdin",
     "output_type": "stream",
     "text": [
      "Enter position (1-9):  8\n"
     ]
    },
    {
     "name": "stdout",
     "output_type": "stream",
     "text": [
      "\n",
      "X | O | X\n",
      "--+---+--\n",
      "  | O |  \n",
      "--+---+--\n",
      "  | X |  \n",
      "\n",
      "Computer's turn...\n",
      "\n",
      "X | O | X\n",
      "--+---+--\n",
      "O | O |  \n",
      "--+---+--\n",
      "  | X |  \n",
      "\n"
     ]
    },
    {
     "name": "stdin",
     "output_type": "stream",
     "text": [
      "Enter position (1-9):  6\n"
     ]
    },
    {
     "name": "stdout",
     "output_type": "stream",
     "text": [
      "\n",
      "X | O | X\n",
      "--+---+--\n",
      "O | O | X\n",
      "--+---+--\n",
      "  | X |  \n",
      "\n",
      "Computer's turn...\n",
      "\n",
      "X | O | X\n",
      "--+---+--\n",
      "O | O | X\n",
      "--+---+--\n",
      "  | X | O\n",
      "\n"
     ]
    },
    {
     "name": "stdin",
     "output_type": "stream",
     "text": [
      "Enter position (1-9):  7\n"
     ]
    },
    {
     "name": "stdout",
     "output_type": "stream",
     "text": [
      "\n",
      "X | O | X\n",
      "--+---+--\n",
      "O | O | X\n",
      "--+---+--\n",
      "X | X | O\n",
      "\n",
      "Draw!\n"
     ]
    }
   ],
   "source": [
    "# Initialize board with 9 empty spaces\n",
    "board = [\" \"]*9\n",
    "\n",
    "\n",
    "def show():\n",
    "    print()\n",
    "    for i in range(3):\n",
    "        print(board[i*3], \"|\", board[i*3+1], \"|\", board[i*3+2])\n",
    "        if i < 2:\n",
    "            print(\"--+---+--\")\n",
    "    print()\n",
    "\n",
    "\n",
    "def check_win(p):\n",
    "    win = [(0,1,2), (3,4,5), (6,7,8),\n",
    "           (0,3,6), (1,4,7), (2,5,8),\n",
    "           (0,4,8), (2,4,6)]\n",
    "    return any(board[a]==board[b]==board[c]==p for a,b,c in win)\n",
    "\n",
    "\n",
    "def minimax(turn):\n",
    "    if check_win(\"O\"): return 1\n",
    "    if check_win(\"X\"): return -1\n",
    "    if \" \" not in board: return 0\n",
    "\n",
    "    scores = []\n",
    "    for i in range(9):\n",
    "        if board[i] == \" \":\n",
    "            board[i] = turn\n",
    "            score = minimax(\"X\" if turn == \"O\" else \"O\")\n",
    "            board[i] = \" \"\n",
    "            scores.append(score)\n",
    "\n",
    "    return max(scores) if turn == \"O\" else min(scores)\n",
    "\n",
    "\n",
    "def ai_move():\n",
    "    best = -100\n",
    "    move = 0\n",
    "    for i in range(9):\n",
    "        if board[i] == \" \":\n",
    "            board[i] = \"O\"\n",
    "            score = minimax(\"X\")\n",
    "            board[i] = \" \"\n",
    "            if score > best:\n",
    "                best = score\n",
    "                move = i\n",
    "    board[move] = \"O\"\n",
    "\n",
    "\n",
    "def player_move():\n",
    "    while True:\n",
    "        try:\n",
    "            pos = int(input(\"Enter position (1-9): \")) - 1\n",
    "            if board[pos] == \" \":\n",
    "                board[pos] = \"X\"\n",
    "                break\n",
    "            else:\n",
    "                print(\"Already taken!\")\n",
    "        except:\n",
    "            print(\"Invalid input!\")\n",
    "\n",
    "\n",
    "def play():\n",
    "    print(\"You: X  |  Computer: O\")\n",
    "    show()\n",
    "    while True:\n",
    "        player_move()\n",
    "        show()\n",
    "        if check_win(\"X\"):\n",
    "            print(\"You win!\")\n",
    "            break\n",
    "        if \" \" not in board:\n",
    "            print(\"Draw!\")\n",
    "            break\n",
    "\n",
    "        print(\"Computer's turn...\")\n",
    "        ai_move()\n",
    "        show()\n",
    "        if check_win(\"O\"):\n",
    "            print(\"Computer wins!\")\n",
    "            break\n",
    "        if \" \" not in board:\n",
    "            print(\"Draw!\")\n",
    "            break\n",
    "\n",
    "play()\n"
   ]
  },
  {
   "cell_type": "code",
   "execution_count": null,
   "id": "8a15600c-e759-44fa-b7af-a9f058d91322",
   "metadata": {},
   "outputs": [],
   "source": []
  }
 ],
 "metadata": {
  "kernelspec": {
   "display_name": "Python [conda env:base] *",
   "language": "python",
   "name": "conda-base-py"
  },
  "language_info": {
   "codemirror_mode": {
    "name": "ipython",
    "version": 3
   },
   "file_extension": ".py",
   "mimetype": "text/x-python",
   "name": "python",
   "nbconvert_exporter": "python",
   "pygments_lexer": "ipython3",
   "version": "3.12.7"
  }
 },
 "nbformat": 4,
 "nbformat_minor": 5
}
