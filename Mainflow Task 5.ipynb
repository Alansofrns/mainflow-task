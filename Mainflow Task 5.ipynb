{
 "cells": [
  {
   "cell_type": "code",
   "execution_count": 1,
   "id": "e4637420-06c3-4677-a189-dff94423c51f",
   "metadata": {},
   "outputs": [
    {
     "name": "stdout",
     "output_type": "stream",
     "text": [
      "['abc', 'acb', 'bac', 'bca', 'cba', 'cab']\n"
     ]
    }
   ],
   "source": [
    "def permute(s, l, r, result):\n",
    "    if l == r:\n",
    "        result.append(\"\".join(s))\n",
    "    else:\n",
    "        for i in range(l, r + 1):\n",
    "            s[l], s[i] = s[i], s[l]  \n",
    "            permute(s, l + 1, r, result)\n",
    "            s[l], s[i] = s[i], s[l]  \n",
    "\n",
    "def get_permutations_recursive(string):\n",
    "    result = []\n",
    "    permute(list(string), 0, len(string) - 1, result)\n",
    "    return result\n",
    "\n",
    "\n",
    "input_str = \"abc\"\n",
    "print(get_permutations_recursive(input_str))\n"
   ]
  },
  {
   "cell_type": "code",
   "execution_count": 20,
   "id": "9bb1fe65-372a-4d28-ba05-4f928ea109c3",
   "metadata": {},
   "outputs": [
    {
     "name": "stdout",
     "output_type": "stream",
     "text": [
      "The 10th Fibonacci number is: 55\n"
     ]
    }
   ],
   "source": [
    "def fibonacci(n):\n",
    "    if n <= 1:\n",
    "        return n \n",
    "   \n",
    "    fib = [0] * (n + 1)\n",
    "    fib[1] = 1\n",
    "\n",
    "   \n",
    "    for i in range(2, n + 1):\n",
    "        fib[i] = fib[i - 1] + fib[i - 2]\n",
    "\n",
    "    return fib[n]\n",
    "\n",
    "n = 10\n",
    "print(f\"The {n}th Fibonacci number is:\", fibonacci(n))\n"
   ]
  },
  {
   "cell_type": "code",
   "execution_count": 21,
   "id": "9c3c9f2e-e4f6-4ce4-9788-1f72f1361a20",
   "metadata": {},
   "outputs": [
    {
     "name": "stdout",
     "output_type": "stream",
     "text": [
      "Duplicates: [1, 2, 3]\n"
     ]
    }
   ],
   "source": [
    "from collections import Counter\n",
    "\n",
    "def find_duplicates(nums):\n",
    "    count = Counter(nums)\n",
    "    duplicates = [num for num, freq in count.items() if freq > 1]\n",
    "    return duplicates\n",
    "\n",
    "input_list = [1, 2, 3, 4, 2, 5, 6, 1, 7, 3]\n",
    "print(\"Duplicates:\", find_duplicates(input_list))\n"
   ]
  },
  {
   "cell_type": "code",
   "execution_count": 4,
   "id": "0196eb76-4002-4da6-ab38-abf8e403f7c4",
   "metadata": {},
   "outputs": [],
   "source": [
    "def length_of_LIS(nums):\n",
    "    if not nums:\n",
    "        return 0\n",
    "\n",
    "    n = len(nums)\n",
    "    dp = [1] * n  \n",
    "\n",
    "   \n",
    "    for i in range(1, n):\n",
    "        for j in range(i):\n",
    "            if nums[i] > nums[j]:\n",
    "                dp[i] = max(dp[i], dp[j] + 1)\n",
    "\n",
    "    return max(dp)\n"
   ]
  },
  {
   "cell_type": "code",
   "execution_count": 5,
   "id": "fcb3dbd3-852f-4b4e-b615-8ccf0d8955c3",
   "metadata": {},
   "outputs": [
    {
     "name": "stdout",
     "output_type": "stream",
     "text": [
      "Length of LIS: 4\n"
     ]
    }
   ],
   "source": [
    "nums = [10, 9, 2, 5, 3, 7, 101, 18]\n",
    "print(\"Length of LIS:\", length_of_LIS(nums))\n"
   ]
  },
  {
   "cell_type": "code",
   "execution_count": 8,
   "id": "c5674a5b-4d51-45b8-906a-7f2389513675",
   "metadata": {},
   "outputs": [],
   "source": [
    "def k_largest_sort(nums, k):\n",
    "    return sorted(nums)[-k:]  \n"
   ]
  },
  {
   "cell_type": "code",
   "execution_count": 9,
   "id": "9041fd4c-f804-4804-9a20-a463d761e485",
   "metadata": {},
   "outputs": [
    {
     "name": "stdout",
     "output_type": "stream",
     "text": [
      "K largest (sorted): [7, 9, 10]\n",
      "K largest (heap): [10, 9, 7]\n"
     ]
    }
   ],
   "source": [
    "nums = [4, 1, 7, 3, 9, 2, 10, 5]\n",
    "k = 3\n",
    "\n",
    "print(\"K largest (sorted):\", k_largest_sort(nums, k))\n",
    "print(\"K largest (heap):\", k_largest_heap(nums, k))\n"
   ]
  },
  {
   "cell_type": "code",
   "execution_count": 10,
   "id": "4b0b39f5-1e0d-4707-8d8a-db0523328f3e",
   "metadata": {},
   "outputs": [],
   "source": [
    "def rotate_matrix_90_clockwise(matrix):\n",
    "    \n",
    "    transposed = list(zip(*matrix))\n",
    "    \n",
    "    rotated = [list(reversed(row)) for row in transposed]\n",
    "    \n",
    "    return rotated\n"
   ]
  },
  {
   "cell_type": "code",
   "execution_count": 11,
   "id": "181767fa-4a44-4d6c-a897-4b658380c536",
   "metadata": {},
   "outputs": [
    {
     "name": "stdout",
     "output_type": "stream",
     "text": [
      "[7, 4, 1]\n",
      "[8, 5, 2]\n",
      "[9, 6, 3]\n"
     ]
    }
   ],
   "source": [
    "matrix = [\n",
    "    [1, 2, 3],\n",
    "    [4, 5, 6],\n",
    "    [7, 8, 9]\n",
    "]\n",
    "\n",
    "rotated = rotate_matrix_90_clockwise(matrix)\n",
    "for row in rotated:\n",
    "    print(row)\n"
   ]
  },
  {
   "cell_type": "code",
   "execution_count": 12,
   "id": "5d8cd9e7-9781-4532-a9cd-2c9c6bb916c3",
   "metadata": {},
   "outputs": [],
   "source": [
    "def is_valid_sudoku(board):\n",
    "    \n",
    "    for row in board:\n",
    "        if not is_valid_unit(row):\n",
    "            return False\n",
    "\n",
    "    \n",
    "    for col in zip(*board):\n",
    "        if not is_valid_unit(col):\n",
    "            return False\n",
    "\n",
    "    \n",
    "    for box_row in range(0, 9, 3):\n",
    "        for box_col in range(0, 9, 3):\n",
    "            box = [\n",
    "                board[r][c]\n",
    "                for r in range(box_row, box_row + 3)\n",
    "                for c in range(box_col, box_col + 3)\n",
    "            ]\n",
    "            if not is_valid_unit(box):\n",
    "                return False\n",
    "\n",
    "    return True\n",
    "\n",
    "def is_valid_unit(unit):\n",
    "    seen = set()\n",
    "    for value in unit:\n",
    "        if value != '.':\n",
    "            if value in seen:\n",
    "                return False\n",
    "            seen.add(value)\n",
    "    return True\n"
   ]
  },
  {
   "cell_type": "code",
   "execution_count": 13,
   "id": "82a5485c-4408-4874-9323-87ab12c6f8c2",
   "metadata": {},
   "outputs": [
    {
     "name": "stdout",
     "output_type": "stream",
     "text": [
      "Valid Sudoku? True\n"
     ]
    }
   ],
   "source": [
    "board = [\n",
    "    [\"5\",\"3\",\".\",\".\",\"7\",\".\",\".\",\".\",\".\"],\n",
    "    [\"6\",\".\",\".\",\"1\",\"9\",\"5\",\".\",\".\",\".\"],\n",
    "    [\".\",\"9\",\"8\",\".\",\".\",\".\",\".\",\"6\",\".\"],\n",
    "    [\"8\",\".\",\".\",\".\",\"6\",\".\",\".\",\".\",\"3\"],\n",
    "    [\"4\",\".\",\".\",\"8\",\".\",\"3\",\".\",\".\",\"1\"],\n",
    "    [\"7\",\".\",\".\",\".\",\"2\",\".\",\".\",\".\",\"6\"],\n",
    "    [\".\",\"6\",\".\",\".\",\".\",\".\",\"2\",\"8\",\".\"],\n",
    "    [\".\",\".\",\".\",\"4\",\"1\",\"9\",\".\",\".\",\"5\"],\n",
    "    [\".\",\".\",\".\",\".\",\"8\",\".\",\".\",\"7\",\"9\"]\n",
    "]\n",
    "\n",
    "print(\"Valid Sudoku?\" , is_valid_sudoku(board))\n"
   ]
  },
  {
   "cell_type": "code",
   "execution_count": 14,
   "id": "4b84a3f8-a158-46f9-af16-a7d0826f3a52",
   "metadata": {},
   "outputs": [],
   "source": [
    "import random\n",
    "\n",
    "class Stock:\n",
    "    def __init__(self, name, price):\n",
    "        self.name = name\n",
    "        self.price = price\n",
    "    \n",
    "    def update_price(self):\n",
    "        change_percent = random.uniform(-0.05, 0.05)  \n",
    "        self.price *= (1 + change_percent)\n",
    "        self.price = round(self.price, 2)\n",
    "\n",
    "class User:\n",
    "    def __init__(self, name, balance=10000):\n",
    "        self.name = name\n",
    "        self.balance = balance\n",
    "        self.portfolio = {} \n",
    "    \n",
    "    def buy(self, stock, quantity):\n",
    "        cost = stock.price * quantity\n",
    "        if self.balance >= cost:\n",
    "            self.balance -= cost\n",
    "            if stock.name in self.portfolio:\n",
    "                owned_qty, avg_price = self.portfolio[stock.name]\n",
    "                total_cost = avg_price * owned_qty + cost\n",
    "                new_qty = owned_qty + quantity\n",
    "                new_avg = total_cost / new_qty\n",
    "                self.portfolio[stock.name] = [new_qty, round(new_avg, 2)]\n",
    "            else:\n",
    "                self.portfolio[stock.name] = [quantity, stock.price]\n",
    "            print(f\"Bought {quantity} of {stock.name} at ${stock.price}\")\n",
    "        else:\n",
    "            print(\"Not enough balance.\")\n",
    "    \n",
    "    def sell(self, stock, quantity):\n",
    "        if stock.name in self.portfolio and self.portfolio[stock.name][0] >= quantity:\n",
    "            self.portfolio[stock.name][0] -= quantity\n",
    "            self.balance += stock.price * quantity\n",
    "            print(f\"Sold {quantity} of {stock.name} at ${stock.price}\")\n",
    "            if self.portfolio[stock.name][0] == 0:\n",
    "                del self.portfolio[stock.name]\n",
    "        else:\n",
    "            print(\"Not enough stock to sell.\")\n",
    "\n",
    "    def show_portfolio(self):\n",
    "        print(f\"\\nBalance: ${round(self.balance, 2)}\")\n",
    "        print(\"Portfolio:\")\n",
    "        for stock, (qty, avg_price) in self.portfolio.items():\n",
    "            print(f\"  {stock} - Qty: {qty}, Avg Buy Price: ${avg_price}\")\n",
    "        print()\n"
   ]
  },
  {
   "cell_type": "code",
   "execution_count": 19,
   "id": "c2afd299-ba82-43c9-9e7a-df9a9e52cdde",
   "metadata": {},
   "outputs": [],
   "source": [
    "def simulate_market():\n",
    "  \n",
    "    stocks = [Stock(\"Alpha\", 100), Stock(\"Beta\", 150), Stock(\"Gamma\", 200)]\n",
    "    user = User(\"Investor1\")\n",
    "\n",
    "    for day in range(1, 6): \n",
    "        print(f\"\\n=== Day {day} ===\")\n",
    "        \n",
    "     \n",
    "        for stock in stocks:\n",
    "            stock.update_price()\n",
    "            print(f\"{stock.name}: ${stock.price}\")\n",
    "        \n",
    "        \n",
    "        stock_choice = stocks[random.randint(0, 2)]\n",
    "        action = random.choice([\"buy\", \"sell\", \"skip\"])\n",
    "\n",
    "        quantity = random.randint(1, 3)\n",
    "\n",
    "        print(f\"Action: {action.upper()} {quantity} of {stock_choice.name}\")\n",
    "        if action == \"buy\":\n",
    "            user.buy(stock_choice, quantity)\n",
    "        elif action == \"sell\":\n",
    "            user.sell(stock_choice, quantity)\n",
    "        \n",
    "        user.show_portfolio()\n"
   ]
  },
  {
   "cell_type": "code",
   "execution_count": 16,
   "id": "0607f5e5-1d78-47b0-a300-400460b313a6",
   "metadata": {},
   "outputs": [
    {
     "name": "stdout",
     "output_type": "stream",
     "text": [
      "\n",
      "=== Day 1 ===\n",
      "Alpha: $96.72\n",
      "Beta: $156.16\n",
      "Gamma: $202.42\n",
      "Action: SELL 1 of Alpha\n",
      "Not enough stock to sell.\n",
      "\n",
      "Balance: $10000\n",
      "Portfolio:\n",
      "\n",
      "\n",
      "=== Day 2 ===\n",
      "Alpha: $95.27\n",
      "Beta: $162.29\n",
      "Gamma: $198.48\n",
      "Action: SELL 3 of Beta\n",
      "Not enough stock to sell.\n",
      "\n",
      "Balance: $10000\n",
      "Portfolio:\n",
      "\n",
      "\n",
      "=== Day 3 ===\n",
      "Alpha: $94.35\n",
      "Beta: $158.08\n",
      "Gamma: $202.54\n",
      "Action: SELL 3 of Alpha\n",
      "Not enough stock to sell.\n",
      "\n",
      "Balance: $10000\n",
      "Portfolio:\n",
      "\n",
      "\n",
      "=== Day 4 ===\n",
      "Alpha: $89.78\n",
      "Beta: $155.65\n",
      "Gamma: $210.47\n",
      "Action: BUY 2 of Gamma\n",
      "Bought 2 of Gamma at $210.47\n",
      "\n",
      "Balance: $9579.06\n",
      "Portfolio:\n",
      "  Gamma - Qty: 2, Avg Buy Price: $210.47\n",
      "\n",
      "\n",
      "=== Day 5 ===\n",
      "Alpha: $93.94\n",
      "Beta: $160.88\n",
      "Gamma: $203.87\n",
      "Action: SKIP 2 of Alpha\n",
      "\n",
      "Balance: $9579.06\n",
      "Portfolio:\n",
      "  Gamma - Qty: 2, Avg Buy Price: $210.47\n",
      "\n"
     ]
    }
   ],
   "source": [
    "simulate_market()\n"
   ]
  },
  {
   "cell_type": "code",
   "execution_count": null,
   "id": "63feacd2-3b45-4567-b268-e96462d3b90b",
   "metadata": {},
   "outputs": [],
   "source": []
  }
 ],
 "metadata": {
  "kernelspec": {
   "display_name": "Python [conda env:base] *",
   "language": "python",
   "name": "conda-base-py"
  },
  "language_info": {
   "codemirror_mode": {
    "name": "ipython",
    "version": 3
   },
   "file_extension": ".py",
   "mimetype": "text/x-python",
   "name": "python",
   "nbconvert_exporter": "python",
   "pygments_lexer": "ipython3",
   "version": "3.12.7"
  }
 },
 "nbformat": 4,
 "nbformat_minor": 5
}
