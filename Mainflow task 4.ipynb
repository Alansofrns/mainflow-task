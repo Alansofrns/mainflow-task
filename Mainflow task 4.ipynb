{
 "cells": [
  {
   "cell_type": "code",
   "execution_count": 4,
   "id": "aa6d373b-0a40-4159-820c-40659ead4979",
   "metadata": {},
   "outputs": [
    {
     "name": "stdout",
     "output_type": "stream",
     "text": [
      "Missing number: 3\n"
     ]
    }
   ],
   "source": [
    "def find_missing_number(arr):\n",
    "    n = len(arr)\n",
    "    expected_sum = (n + 1) * (n + 2) // 2  \n",
    "    actual_sum = sum(arr)\n",
    "    return expected_sum - actual_sum\n",
    "\n",
    "arr = [1, 2, 4, 5, 6]  \n",
    "print(\"Missing number:\", find_missing_number(arr))\n"
   ]
  },
  {
   "cell_type": "code",
   "execution_count": 7,
   "id": "8a0e70fc-d083-4304-895f-1f1c505834eb",
   "metadata": {},
   "outputs": [
    {
     "name": "stdout",
     "output_type": "stream",
     "text": [
      "True\n",
      "False\n"
     ]
    }
   ],
   "source": [
    "def is_balanced(s):\n",
    "    stack = []\n",
    "    pairs = {')': '(', '}': '{', ']': '['}\n",
    "\n",
    "    for char in s:\n",
    "        if char in '({[':\n",
    "            stack.append(char)\n",
    "        elif char in ')}]':\n",
    "            if not stack or stack.pop() != pairs[char]:\n",
    "                return False\n",
    "    return not stack  \n",
    "print(is_balanced(\"({[]})\"))  \n",
    "print(is_balanced(\"({[})\"))   \n"
   ]
  },
  {
   "cell_type": "code",
   "execution_count": 8,
   "id": "75b52dcf-0b8e-4160-999b-577e37399733",
   "metadata": {},
   "outputs": [
    {
     "name": "stdout",
     "output_type": "stream",
     "text": [
      "programming\n"
     ]
    }
   ],
   "source": [
    "def longest_word(sentence):\n",
    "    words = sentence.split()\n",
    "    return max(words, key=len)\n",
    "\n",
    "\n",
    "print(longest_word(\"I am learning Python programming\")) \n"
   ]
  },
  {
   "cell_type": "code",
   "execution_count": 9,
   "id": "4404f593-a7d9-43bf-82a2-a432407dcec0",
   "metadata": {},
   "outputs": [
    {
     "name": "stdout",
     "output_type": "stream",
     "text": [
      "5\n"
     ]
    }
   ],
   "source": [
    "def count_words(sentence):\n",
    "    words = sentence.split()\n",
    "    return len(words)\n",
    "\n",
    "\n",
    "print(count_words(\"I am learning Python programming\"))  \n"
   ]
  },
  {
   "cell_type": "code",
   "execution_count": 11,
   "id": "699fb096-13e1-4532-b636-4f656bb4a7d3",
   "metadata": {},
   "outputs": [
    {
     "name": "stdout",
     "output_type": "stream",
     "text": [
      "True\n",
      "False\n"
     ]
    }
   ],
   "source": [
    "def is_pythagorean_triplet(a, b, c):\n",
    "    sides = sorted([a, b, c])  \n",
    "    return sides[0]**2 + sides[1]**2 == sides[2]**2\n",
    "\n",
    "\n",
    "print(is_pythagorean_triplet(3, 4, 5))  \n",
    "print(is_pythagorean_triplet(5, 6, 7))  \n",
    " \n"
   ]
  },
  {
   "cell_type": "code",
   "execution_count": 13,
   "id": "abde3dde-7540-48c5-85b7-80ef6b15158e",
   "metadata": {},
   "outputs": [
    {
     "name": "stdout",
     "output_type": "stream",
     "text": [
      "[1, 2, 3, 5, 9]\n"
     ]
    }
   ],
   "source": [
    "def bubble_sort(arr):\n",
    "    n = len(arr)\n",
    "    for i in range(n):\n",
    "        for j in range(n - 1 - i): \n",
    "            if arr[j] > arr[j + 1]:\n",
    "                arr[j], arr[j + 1] = arr[j + 1], arr[j]  \n",
    "    return arr\n",
    "print(bubble_sort([5, 2, 9, 1, 3]))  "
   ]
  },
  {
   "cell_type": "code",
   "execution_count": 14,
   "id": "1e21eb7f-6388-4be6-90f1-4c04cf3a5178",
   "metadata": {},
   "outputs": [
    {
     "name": "stdout",
     "output_type": "stream",
     "text": [
      "3\n"
     ]
    }
   ],
   "source": [
    "def binary_search(arr, target):\n",
    "    low = 0\n",
    "    high = len(arr) - 1\n",
    "    \n",
    "    while low <= high:\n",
    "        mid = (low + high) // 2  \n",
    "        \n",
    "        if arr[mid] == target:\n",
    "            return mid  \n",
    "        elif arr[mid] < target:\n",
    "            low = mid + 1  \n",
    "        else:\n",
    "            high = mid - 1  \n",
    "    \n",
    "    return -1  \n",
    "sorted_list = [1, 3, 5, 7, 9, 11]\n",
    "target = 7\n",
    "print(binary_search(sorted_list, target))  "
   ]
  },
  {
   "cell_type": "code",
   "execution_count": 15,
   "id": "b41b7d8a-cd16-4a00-ad7f-383f1b1bd4c4",
   "metadata": {},
   "outputs": [
    {
     "name": "stdout",
     "output_type": "stream",
     "text": [
      "(1, 3)\n"
     ]
    }
   ],
   "source": [
    "def find_subarray_with_sum(arr, target):\n",
    "    start = 0\n",
    "    current_sum = 0\n",
    "\n",
    "    for end in range(len(arr)):\n",
    "        current_sum += arr[end]\n",
    "               \n",
    "        while current_sum > target and start < end:\n",
    "            current_sum -= arr[start]\n",
    "            start += 1\n",
    "        \n",
    "        if current_sum == target:\n",
    "            return (start, end)\n",
    "\n",
    "    return -1  \n",
    "\n",
    "arr = [1, 2, 3, 7, 5]\n",
    "S = 12\n",
    "print(find_subarray_with_sum(arr, S))  \n"
   ]
  },
  {
   "cell_type": "code",
   "execution_count": 19,
   "id": "b86e3843-6d1a-4be3-b319-f027f46e6c1a",
   "metadata": {},
   "outputs": [
    {
     "name": "stdout",
     "output_type": "stream",
     "text": [
      "Sample log file created.\n"
     ]
    }
   ],
   "source": [
    "sample_logs = \"\"\"\\\n",
    "127.0.0.1 - - [23/Jun/2025:10:20:30 +0000] \"GET /index.html HTTP/1.1\" 200 1043\n",
    "192.168.1.10 - - [23/Jun/2025:10:21:12 +0000] \"POST /login HTTP/1.1\" 401 234\n",
    "127.0.0.1 - - [23/Jun/2025:10:22:11 +0000] \"GET /home HTTP/1.1\" 200 1234\n",
    "10.0.0.5 - - [23/Jun/2025:10:23:00 +0000] \"GET /index.html HTTP/1.1\" 404 400\n",
    "192.168.1.10 - - [23/Jun/2025:10:24:45 +0000] \"GET /dashboard HTTP/1.1\" 200 512\n",
    "\"\"\"\n",
    "\n",
    "with open(\"access.log\", \"w\") as file:\n",
    "    file.write(sample_logs)\n",
    "\n",
    "print(\"Sample log file created.\")"
   ]
  },
  {
   "cell_type": "code",
   "execution_count": 21,
   "id": "eb542b93-1f4b-4524-988a-0fba5425ada2",
   "metadata": {},
   "outputs": [],
   "source": [
    "def analyze_log(file_path):\n",
    "    ip_count = {}\n",
    "    url_count = {}\n",
    "    status_code_count = {}\n",
    "\n",
    "    try:\n",
    "        with open(file_path, 'r') as f:\n",
    "            for line in f:\n",
    "                parts = line.split()\n",
    "                if len(parts) < 9:\n",
    "                    continue  \n",
    "\n",
    "                ip = parts[0]\n",
    "                url = parts[6]\n",
    "                status_code = parts[8]\n",
    "                \n",
    "                ip_count[ip] = ip_count.get(ip, 0) + 1\n",
    "            \n",
    "                url_count[url] = url_count.get(url, 0) + 1\n",
    "        \n",
    "                status_code_count[status_code] = status_code_count.get(status_code, 0) + 1\n",
    "\n",
    "       \n",
    "        print(\"📍 Top 5 IP Addresses:\")\n",
    "        for ip, count in sorted(ip_count.items(), key=lambda x: x[1], reverse=True)[:5]:\n",
    "            print(f\"{ip}: {count} times\")\n",
    "\n",
    "        print(\"\\n📍 Status Code Summary:\")\n",
    "        for code, count in status_code_count.items():\n",
    "            print(f\"{code}: {count} times\")\n",
    "\n",
    "        print(\"\\n📍 Top 5 Accessed URLs:\")\n",
    "        for url, count in sorted(url_count.items(), key=lambda x: x[1], reverse=True)[:5]:\n",
    "            print(f\"{url}: {count} times\")\n",
    "\n",
    "    except FileNotFoundError:\n",
    "        print(\"❌ Log file not found.\")\n",
    "    except Exception as e:\n",
    "        print(\"❌ Error:\", e)\n",
    "\n",
    "\n",
    "\n"
   ]
  },
  {
   "cell_type": "code",
   "execution_count": 20,
   "id": "99d3fa78-9298-4753-96b2-aacb3bc162a7",
   "metadata": {},
   "outputs": [
    {
     "name": "stdout",
     "output_type": "stream",
     "text": [
      "\n",
      "Top 5 IP Addresses:\n",
      "127.0.0.1: 2 times\n",
      "192.168.1.10: 2 times\n",
      "10.0.0.5: 1 times\n",
      "\n",
      "Status Code Summary:\n",
      "200: 3 times\n",
      "401: 1 times\n",
      "404: 1 times\n",
      "\n",
      "Top 5 Accessed URLs:\n",
      "/index.html: 2 times\n",
      "/login: 1 times\n",
      "/home: 1 times\n",
      "/dashboard: 1 times\n"
     ]
    }
   ],
   "source": [
    "\n",
    "analyze_log(\"access.log\")\n"
   ]
  }
 ],
 "metadata": {
  "kernelspec": {
   "display_name": "Python [conda env:base] *",
   "language": "python",
   "name": "conda-base-py"
  },
  "language_info": {
   "codemirror_mode": {
    "name": "ipython",
    "version": 3
   },
   "file_extension": ".py",
   "mimetype": "text/x-python",
   "name": "python",
   "nbconvert_exporter": "python",
   "pygments_lexer": "ipython3",
   "version": "3.12.7"
  }
 },
 "nbformat": 4,
 "nbformat_minor": 5
}
