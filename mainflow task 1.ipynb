{
 "cells": [
  {
   "cell_type": "code",
   "execution_count": 9,
   "id": "cc0decdf-0d19-428b-93ac-cda3985637b6",
   "metadata": {},
   "outputs": [
    {
     "name": "stdout",
     "output_type": "stream",
     "text": [
      "The sum of 5 and 10 is 15.\n"
     ]
    }
   ],
   "source": [
    "# Task 1: Sum of Two Numbers\n",
    "def sum_of_two_numbers(a, b):\n",
    "    return a + b\n",
    "\n",
    "# Example\n",
    "a, b = 5, 10\n",
    "\n",
    "print(f\"The sum of {a} and {b} is {sum_of_two_numbers(a, b)}.\")\n"
   ]
  },
  {
   "cell_type": "code",
   "execution_count": 2,
   "id": "ec026579-f681-488a-b4ed-d4b19cdb8dc5",
   "metadata": {},
   "outputs": [
    {
     "name": "stdin",
     "output_type": "stream",
     "text": [
      "Enter a number:  4\n"
     ]
    },
    {
     "name": "stdout",
     "output_type": "stream",
     "text": [
      "Even\n"
     ]
    }
   ],
   "source": [
    "# Program to check if a number is odd or even\n",
    "\n",
    "# Input: Read an integer from the user\n",
    "number = int(input(\"Enter a number: \"))\n",
    "\n",
    "# Processing & Output\n",
    "if number % 2 == 0:\n",
    "    print(\"Even\")\n",
    "else:\n",
    "    print(\"Odd\")\n"
   ]
  },
  {
   "cell_type": "code",
   "execution_count": 3,
   "id": "c6a95422-3d01-4569-9105-21907a135b95",
   "metadata": {},
   "outputs": [
    {
     "name": "stdin",
     "output_type": "stream",
     "text": [
      "Enter a number:  5\n"
     ]
    },
    {
     "name": "stdout",
     "output_type": "stream",
     "text": [
      "The factorial of 5 is: 120\n"
     ]
    }
   ],
   "source": [
    "# Program to compute the factorial of a number using a loop\n",
    "\n",
    "# Input: Read an integer from the user\n",
    "n = int(input(\"Enter a number: \"))\n",
    "\n",
    "# Initialize factorial\n",
    "factorial = 1\n",
    "\n",
    "# Compute factorial using a loop\n",
    "if n < 0:\n",
    "    print(\"Factorial is not defined for negative numbers.\")\n",
    "else:\n",
    "    for i in range(1, n + 1):\n",
    "        factorial *= i\n",
    "    print(\"The factorial of\", n, \"is:\", factorial)\n",
    "\n"
   ]
  },
  {
   "cell_type": "code",
   "execution_count": 6,
   "id": "dc118c34-4b9e-4391-9544-45d7f1167776",
   "metadata": {},
   "outputs": [
    {
     "name": "stdout",
     "output_type": "stream",
     "text": [
      "The first 10 Fibonacci numbers are: [0, 1, 1, 2, 3, 5, 8, 13, 21, 34]\n"
     ]
    }
   ],
   "source": [
    "# Task 4: Fibonacci Sequence\n",
    "\n",
    "def fibonacci_sequence(n):\n",
    "    sequence = [0, 1]\n",
    "    for i in range(2, n):\n",
    "        sequence.append(sequence[-1] + sequence[-2])\n",
    "    return sequence[:n]\n",
    "\n",
    "# Example\n",
    "n = 10\n",
    "print(f\"The first {n} Fibonacci numbers are: {fibonacci_sequence(n)}\")\n"
   ]
  },
  {
   "cell_type": "code",
   "execution_count": 8,
   "id": "65ab0dde-5908-443a-b137-6dc39ee3ec57",
   "metadata": {},
   "outputs": [
    {
     "name": "stdout",
     "output_type": "stream",
     "text": [
      "The reverse of 'hello' is 'olleh'.\n"
     ]
    }
   ],
   "source": [
    "# Task 5: Reverse a String\n",
    "\n",
    "def reverse_string(s):\n",
    "    return s[::-1]\n",
    "\n",
    "# Example\n",
    "string = \"hello\"\n",
    "print(f\"The reverse of '{string}' is '{reverse_string(string)}'.\")\n"
   ]
  },
  {
   "cell_type": "code",
   "execution_count": 9,
   "id": "d39f8cd6-3a09-4283-b090-fb3db7f49ff7",
   "metadata": {},
   "outputs": [
    {
     "name": "stdout",
     "output_type": "stream",
     "text": [
      "Is 'madam' a palindrome? True\n"
     ]
    }
   ],
   "source": [
    "# Task 6: Palindrome Check\n",
    "\n",
    "def is_palindrome(s):\n",
    "    return s == s[::-1]\n",
    "\n",
    "# Example\n",
    "string = \"madam\"\n",
    "print(f\"Is '{string}' a palindrome? {is_palindrome(string)}\")\n"
   ]
  },
  {
   "cell_type": "code",
   "execution_count": 12,
   "id": "425900cb-8a3c-41dd-a6c4-5c1fa3fd35ca",
   "metadata": {},
   "outputs": [
    {
     "name": "stdout",
     "output_type": "stream",
     "text": [
      "Is 2024 a leap year? True\n"
     ]
    }
   ],
   "source": [
    "# Task 7: Leap Year Check\n",
    "\n",
    "def is_leap_year(year):\n",
    "    # Leap year if divisible by 4 and (not divisible by 100 or divisible by 400)\n",
    "    return (year % 4 == 0) and (year % 100 != 0 or year % 400 == 0)\n",
    "\n",
    "# Example\n",
    "year = 2024\n",
    "print(f\"Is {year} a leap year? {is_leap_year(year)}\")\n",
    "\n"
   ]
  },
  {
   "cell_type": "code",
   "execution_count": 13,
   "id": "70fdc768-f4ca-481a-a0b5-728160670bfd",
   "metadata": {
    "collapsed": true,
    "jupyter": {
     "outputs_hidden": true
    }
   },
   "outputs": [
    {
     "name": "stdout",
     "output_type": "stream",
     "text": [
      "Is 153 an Armstrong number? True.\n"
     ]
    }
   ],
   "source": [
    "# Task 8: Armstrong Number\n",
    "\n",
    "def is_armstrong_number(n):\n",
    "    digits = str(n)\n",
    "    return n == sum(int(d) ** len(digits) for d in digits)\n",
    "\n",
    "# Example\n",
    "num = 153\n",
    "print(f\"Is {num} an Armstrong number? {is_armstrong_number(num)}.\")\n"
   ]
  },
  {
   "cell_type": "code",
   "execution_count": 16,
   "id": "7875d06a-30d1-4c30-ba1e-7ede78f38fce",
   "metadata": {},
   "outputs": [
    {
     "name": "stdout",
     "output_type": "stream",
     "text": [
      "Original: Hello World!\n",
      "Encrypted: Khoor Zruog!\n",
      "Decrypted: Hello World!\n"
     ]
    }
   ],
   "source": [
    "# Task 9: Custom Encryption-Decryption System\n",
    "\n",
    "def encrypt(text, shift):\n",
    "    encrypted_text = \"\"\n",
    "    for char in text:\n",
    "        if char.isalpha():\n",
    "            shift_base = 65 if char.isupper() else 97\n",
    "            encrypted_text += chr((ord(char) - shift_base + shift) % 26 + shift_base)\n",
    "        else:\n",
    "            encrypted_text += char\n",
    "    return encrypted_text\n",
    "\n",
    "def decrypt(encrypted_text, shift):\n",
    "    return encrypt(encrypted_text, -shift)\n",
    "\n",
    "# Example\n",
    "message = \"Hello World!\"\n",
    "shift_key = 3\n",
    "\n",
    "encrypted_message = encrypt(message, shift_key)\n",
    "decrypted_message = decrypt(encrypted_message, shift_key)\n",
    "\n",
    "print(f\"Original: {message}\")\n",
    "print(f\"Encrypted: {encrypted_message}\")\n",
    "print(f\"Decrypted: {decrypted_message}\")\n"
   ]
  },
  {
   "cell_type": "code",
   "execution_count": null,
   "id": "b0e01c60-71c0-4e44-94b5-590ea03e1642",
   "metadata": {},
   "outputs": [],
   "source": []
  }
 ],
 "metadata": {
  "kernelspec": {
   "display_name": "Python [conda env:base] *",
   "language": "python",
   "name": "conda-base-py"
  },
  "language_info": {
   "codemirror_mode": {
    "name": "ipython",
    "version": 3
   },
   "file_extension": ".py",
   "mimetype": "text/x-python",
   "name": "python",
   "nbconvert_exporter": "python",
   "pygments_lexer": "ipython3",
   "version": "3.12.7"
  }
 },
 "nbformat": 4,
 "nbformat_minor": 5
}
