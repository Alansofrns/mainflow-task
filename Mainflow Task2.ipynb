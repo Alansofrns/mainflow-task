{
 "cells": [
  {
   "cell_type": "code",
   "execution_count": 3,
   "id": "e7e8af00-60f6-4db9-ae3d-1c5ef54d4296",
   "metadata": {},
   "outputs": [
    {
     "name": "stdin",
     "output_type": "stream",
     "text": [
      "Enter a number:  9\n"
     ]
    },
    {
     "name": "stdout",
     "output_type": "stream",
     "text": [
      "False\n"
     ]
    }
   ],
   "source": [
    "import math\n",
    "\n",
    "def is_prime(n):\n",
    "    if n <= 1:\n",
    "        return False\n",
    "    for i in range(2, int(math.sqrt(n)) + 1):\n",
    "        if n % i == 0:\n",
    "            return False\n",
    "    return True\n",
    "\n",
    "# Example usage\n",
    "n = int(input(\"Enter a number: \"))\n",
    "print(is_prime(n))\n"
   ]
  },
  {
   "cell_type": "code",
   "execution_count": 5,
   "id": "3ca50799-3e53-4c65-81ac-f2dbba75413a",
   "metadata": {},
   "outputs": [
    {
     "name": "stdin",
     "output_type": "stream",
     "text": [
      "Enter a number:  123\n"
     ]
    },
    {
     "name": "stdout",
     "output_type": "stream",
     "text": [
      "6\n"
     ]
    }
   ],
   "source": [
    "def sum_of_digits(n):\n",
    "    return sum(int(digit) for digit in str(abs(n)))\n",
    "\n",
    "# Example usage\n",
    "n = int(input(\"Enter a number: \"))\n",
    "print(sum_of_digits(n))\n",
    "\n"
   ]
  },
  {
   "cell_type": "code",
   "execution_count": 6,
   "id": "9696814f-c4cc-498c-adb6-87f26c596ad2",
   "metadata": {},
   "outputs": [
    {
     "name": "stdin",
     "output_type": "stream",
     "text": [
      "Enter first number:  12\n",
      "Enter second number:  18\n"
     ]
    },
    {
     "name": "stdout",
     "output_type": "stream",
     "text": [
      "GCD: 6\n",
      "LCM: 36\n"
     ]
    }
   ],
   "source": [
    "\n",
    "\n",
    "import math\n",
    "\n",
    "def compute_gcd_lcm(a, b):\n",
    "    gcd = math.gcd(a, b)\n",
    "    lcm = abs(a * b) // gcd\n",
    "    return gcd, lcm\n",
    "\n",
    "# Example usage\n",
    "a = int(input(\"Enter first number: \"))\n",
    "b = int(input(\"Enter second number: \"))\n",
    "\n",
    "gcd, lcm = compute_gcd_lcm(a, b)\n",
    "print(\"GCD:\", gcd)\n",
    "print(\"LCM:\", lcm)\n"
   ]
  },
  {
   "cell_type": "code",
   "execution_count": 7,
   "id": "5892abbd-2578-43cc-86c7-84d215e8ed02",
   "metadata": {
    "scrolled": true
   },
   "outputs": [
    {
     "name": "stdout",
     "output_type": "stream",
     "text": [
      "Original List: [1, 2, 3, 4, 5]\n",
      "Reversed List: [5, 4, 3, 2, 1]\n"
     ]
    }
   ],
   "source": [
    "def reverse_list(lst):\n",
    "    n = len(lst)\n",
    "    for i in range(n // 2):\n",
    "        # Swap elements from start and end\n",
    "        lst[i], lst[n - 1 - i] = lst[n - 1 - i], lst[i]\n",
    "    return lst\n",
    "\n",
    "# Example usage\n",
    "lst = [1, 2, 3, 4, 5]\n",
    "print(\"Original List:\", lst)\n",
    "print(\"Reversed List:\", reverse_list(last))\n",
    "\n",
    "\n"
   ]
  },
  {
   "cell_type": "code",
   "execution_count": 8,
   "id": "d2238156-5473-4edc-b068-ab87b38e8fca",
   "metadata": {},
   "outputs": [
    {
     "name": "stdout",
     "output_type": "stream",
     "text": [
      "Original List: [64, 25, 12, 22, 11]\n",
      "Sorted List: [11, 12, 22, 25, 64]\n"
     ]
    }
   ],
   "source": [
    "def bubble_sort(lst):\n",
    "    n = len(lst)\n",
    "    for i in range(n):\n",
    "        # Last i elements are already in place\n",
    "        for j in range(0, n - i - 1):\n",
    "            if lst[j] > lst[j + 1]:\n",
    "                # Swap if elements are in wrong order\n",
    "                lst[j], lst[j + 1] = lst[j + 1], lst[j]\n",
    "    return lst\n",
    "\n",
    "# Example usage\n",
    "lst = [64, 25, 12, 22, 11]\n",
    "print(\"Original List:\", lst)\n",
    "print(\"Sorted List:\", bubble_sort(last))\n"
   ]
  },
  {
   "cell_type": "code",
   "execution_count": 9,
   "id": "5209f3f9-2f52-4dcd-a648-f5bdae63ec0a",
   "metadata": {},
   "outputs": [
    {
     "name": "stdout",
     "output_type": "stream",
     "text": [
      "Original List: [1, 2, 2, 3, 4, 4, 5]\n",
      "List Without Duplicates: [1, 2, 3, 4, 5]\n"
     ]
    }
   ],
   "source": [
    "\n",
    "def remove_duplicates(lst):\n",
    "    unique = []\n",
    "    for item in lst:\n",
    "        if item not in unique:\n",
    "            unique.append(item)\n",
    "    return unique\n",
    "\n",
    "# Example usage\n",
    "lst = [1, 2, 2, 3, 4, 4, 5]\n",
    "print(\"Original List:\", lst)\n",
    "print(\"List Without Duplicates:\", remove_duplicates(lst))\n"
   ]
  },
  {
   "cell_type": "code",
   "execution_count": 10,
   "id": "e1bb0798-1da3-40db-959a-dd5611bf68ab",
   "metadata": {},
   "outputs": [
    {
     "name": "stdin",
     "output_type": "stream",
     "text": [
      "Enter a string:  hello\n"
     ]
    },
    {
     "name": "stdout",
     "output_type": "stream",
     "text": [
      "Length of the string: 5\n"
     ]
    }
   ],
   "source": [
    "def string_length(s):\n",
    "    count = 0\n",
    "    for char in s:\n",
    "        count += 1\n",
    "    return count\n",
    "\n",
    "# Example usage\n",
    "s = input(\"Enter a string: \")\n",
    "print(\"Length of the string:\", string_length(s))\n"
   ]
  },
  {
   "cell_type": "code",
   "execution_count": 11,
   "id": "bd1cc05d-9e80-47cd-96bb-2c64581f8594",
   "metadata": {},
   "outputs": [
    {
     "name": "stdin",
     "output_type": "stream",
     "text": [
      "Enter a string:  Hello World\n"
     ]
    },
    {
     "name": "stdout",
     "output_type": "stream",
     "text": [
      "Vowels: 3\n",
      "Consonants: 7\n"
     ]
    }
   ],
   "source": [
    "def count_vowels_consonants(s):\n",
    "    vowels = set(\"aeiouAEIOU\")\n",
    "    vowel_count = 0\n",
    "    consonant_count = 0\n",
    "    \n",
    "    for char in s:\n",
    "        if char.isalpha():  # Check if it's a letter\n",
    "            if char in vowels:\n",
    "                vowel_count += 1\n",
    "            else:\n",
    "                consonant_count += 1\n",
    "                \n",
    "    return vowel_count, consonant_count\n",
    "\n",
    "# Example usage\n",
    "s = input(\"Enter a string: \")\n",
    "vowels, consonants = count_vowels_consonants(s)\n",
    "print(\"Vowels:\", vowels)\n",
    "print(\"Consonants:\", consonants)\n"
   ]
  },
  {
   "cell_type": "code",
   "execution_count": 12,
   "id": "87401e9a-60c8-4299-a194-814810a5f117",
   "metadata": {},
   "outputs": [
    {
     "name": "stdout",
     "output_type": "stream",
     "text": [
      "Generated Maze:\n",
      "\n",
      "1 1 1 1 1 1 1 1 1 1 1 1 1 1 1 1 1 1 1 1 1\n",
      "1 S 0 0 1 0 0 0 0 0 0 0 1 0 0 0 0 0 1 0 1\n",
      "1 1 1 0 1 1 1 0 1 1 1 0 1 0 1 1 1 0 1 0 1\n",
      "1 0 1 0 0 0 1 0 1 0 0 0 1 0 1 0 0 0 1 0 1\n",
      "1 0 1 1 1 0 1 0 1 1 1 0 1 0 1 0 1 1 1 0 1\n",
      "1 0 1 0 0 0 1 0 0 0 1 0 0 0 1 0 0 0 1 0 1\n",
      "1 0 1 0 1 1 1 1 1 0 1 1 1 1 1 1 1 0 1 0 1\n",
      "1 0 1 0 0 0 0 0 0 0 1 0 0 0 0 0 1 0 0 0 1\n",
      "1 0 1 1 1 1 1 1 1 1 1 0 1 1 1 0 1 1 1 0 1\n",
      "1 0 0 0 0 0 1 0 0 0 0 0 1 0 1 0 0 0 1 0 1\n",
      "1 0 1 0 1 1 1 0 1 1 1 1 1 0 1 1 1 0 1 0 1\n",
      "1 0 1 0 1 0 0 0 1 0 0 0 0 0 0 0 1 0 0 0 1\n",
      "1 1 1 0 1 0 1 1 1 1 1 0 1 1 1 0 1 1 1 1 1\n",
      "1 0 0 0 1 0 0 0 0 0 0 0 1 0 0 0 1 0 0 0 1\n",
      "1 0 1 1 1 1 1 1 1 1 1 1 1 0 1 1 1 0 1 0 1\n",
      "1 0 0 0 0 0 0 0 1 0 0 0 0 0 1 0 0 0 1 0 1\n",
      "1 1 1 0 1 1 1 0 1 0 1 1 1 1 1 0 1 1 1 0 1\n",
      "1 0 0 0 1 0 0 0 1 0 1 0 0 0 0 0 1 0 0 0 1\n",
      "1 0 1 1 1 1 1 1 1 0 1 0 1 1 1 1 1 0 1 1 1\n",
      "1 0 0 0 0 0 0 0 0 0 0 0 1 0 0 0 0 0 0 E 1\n",
      "1 1 1 1 1 1 1 1 1 1 1 1 1 1 1 1 1 1 1 1 1\n",
      "\n",
      "Solved Maze:\n",
      "\n",
      "1 1 1 1 1 1 1 1 1 1 1 1 1 1 1 1 1 1 1 1 1\n",
      "1 S . . 1 0 0 . . . . . 1 . . . . . 1 0 1\n",
      "1 1 1 . 1 1 1 . 1 1 1 . 1 . 1 1 1 . 1 0 1\n",
      "1 0 1 . . . 1 . 1 0 0 . 1 . 1 . . . 1 0 1\n",
      "1 0 1 1 1 . 1 . 1 1 1 . 1 . 1 . 1 1 1 0 1\n",
      "1 0 1 . . . 1 . . . 1 . . . 1 . . . 1 0 1\n",
      "1 0 1 . 1 1 1 1 1 . 1 1 1 1 1 1 1 . 1 0 1\n",
      "1 0 1 . . . . . . . 1 . . . . . 1 . . . 1\n",
      "1 0 1 1 1 1 1 1 1 1 1 . 1 1 1 . 1 1 1 . 1\n",
      "1 0 0 0 0 0 1 . . . . . 1 0 1 . . . 1 . 1\n",
      "1 0 1 0 1 1 1 . 1 1 1 1 1 0 1 1 1 . 1 . 1\n",
      "1 0 1 0 1 . . . 1 0 0 . . . . . 1 . . . 1\n",
      "1 1 1 0 1 . 1 1 1 1 1 . 1 1 1 . 1 1 1 1 1\n",
      "1 0 0 0 1 . . . . . . . 1 . . . 1 . . . 1\n",
      "1 0 1 1 1 1 1 1 1 1 1 1 1 . 1 1 1 . 1 . 1\n",
      "1 0 0 0 0 0 0 0 1 . . . . . 1 . . . 1 . 1\n",
      "1 1 1 0 1 1 1 0 1 . 1 1 1 1 1 . 1 1 1 . 1\n",
      "1 0 0 0 1 0 0 0 1 . 1 . . . . . 1 . . . 1\n",
      "1 0 1 1 1 1 1 1 1 . 1 . 1 1 1 1 1 . 1 1 1\n",
      "1 0 0 0 0 0 0 0 0 . . . 1 0 0 0 0 . . E 1\n",
      "1 1 1 1 1 1 1 1 1 1 1 1 1 1 1 1 1 1 1 1 1\n"
     ]
    }
   ],
   "source": [
    "import random\n",
    "from collections import deque\n",
    "\n",
    "# Dimensions of the maze (must be odd for proper walls and paths)\n",
    "ROWS, COLS = 21, 21\n",
    "\n",
    "def init_maze(rows, cols):\n",
    "    # Start with all walls\n",
    "    maze = [['1' for _ in range(cols)] for _ in range(rows)]\n",
    "    return maze\n",
    "\n",
    "def generate_maze(maze):\n",
    "    # Start from a random odd cell\n",
    "    def carve(x, y):\n",
    "        directions = [(0,2), (0,-2), (2,0), (-2,0)]\n",
    "        random.shuffle(directions)\n",
    "        for dx, dy in directions:\n",
    "            nx, ny = x + dx, y + dy\n",
    "            if 1 <= nx < ROWS-1 and 1 <= ny < COLS-1 and maze[nx][ny] == '1':\n",
    "                maze[nx][ny] = '0'\n",
    "                maze[x + dx//2][y + dy//2] = '0'\n",
    "                carve(nx, ny)\n",
    "\n",
    "    maze[1][1] = '0'\n",
    "    carve(1,1)\n",
    "    maze[1][1] = 'S'\n",
    "    maze[ROWS-2][COLS-2] = 'E'\n",
    "\n",
    "def print_maze(maze):\n",
    "    for row in maze:\n",
    "        print(' '.join(row))\n",
    "\n",
    "def solve_maze(maze):\n",
    "    # BFS to find path from S to E\n",
    "    start = None\n",
    "    end = None\n",
    "    for i in range(ROWS):\n",
    "        for j in range(COLS):\n",
    "            if maze[i][j] == 'S':\n",
    "                start = (i, j)\n",
    "            if maze[i][j] == 'E':\n",
    "                end = (i, j)\n",
    "\n",
    "    queue = deque([start])\n",
    "    visited = [[False]*COLS for _ in range(ROWS)]\n",
    "    prev = [[None]*COLS for _ in range(ROWS)]\n",
    "    visited[start[0]][start[1]] = True\n",
    "\n",
    "    while queue:\n",
    "        x, y = queue.popleft()\n",
    "        if (x, y) == end:\n",
    "            break\n",
    "        for dx, dy in [(0,1),(1,0),(0,-1),(-1,0)]:\n",
    "            nx, ny = x + dx, y + dy\n",
    "            if 0 <= nx < ROWS and 0 <= ny < COLS and maze[nx][ny] in ['0', 'E'] and not visited[nx][ny]:\n",
    "                queue.append((nx, ny))\n",
    "                visited[nx][ny] = True\n",
    "                prev[nx][ny] = (x, y)\n",
    "\n",
    "    # Backtrack to mark the path\n",
    "    x, y = end\n",
    "    while prev[x][y] != start:\n",
    "        x, y = prev[x][y]\n",
    "        maze[x][y] = '.'\n",
    "\n",
    "def main():\n",
    "    maze = init_maze(ROWS, COLS)\n",
    "    generate_maze(maze)\n",
    "    print(\"Generated Maze:\\n\")\n",
    "    print_maze(maze)\n",
    "\n",
    "    solve_maze(maze)\n",
    "    print(\"\\nSolved Maze:\\n\")\n",
    "    print_maze(maze)\n",
    "\n",
    "if __name__ == \"__main__\":\n",
    "    main()\n"
   ]
  },
  {
   "cell_type": "code",
   "execution_count": null,
   "id": "fa61473a-eab8-4c11-baf7-051a637e77d4",
   "metadata": {},
   "outputs": [],
   "source": []
  }
 ],
 "metadata": {
  "kernelspec": {
   "display_name": "Python [conda env:base] *",
   "language": "python",
   "name": "conda-base-py"
  },
  "language_info": {
   "codemirror_mode": {
    "name": "ipython",
    "version": 3
   },
   "file_extension": ".py",
   "mimetype": "text/x-python",
   "name": "python",
   "nbconvert_exporter": "python",
   "pygments_lexer": "ipython3",
   "version": "3.12.7"
  }
 },
 "nbformat": 4,
 "nbformat_minor": 5
}
