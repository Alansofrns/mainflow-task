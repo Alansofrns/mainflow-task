{
 "cells": [
  {
   "cell_type": "code",
   "execution_count": 13,
   "id": "b6ddb9c5-6074-4472-a106-59e927715a8d",
   "metadata": {},
   "outputs": [
    {
     "name": "stdout",
     "output_type": "stream",
     "text": [
      "Serialized Tree: 1,2,#,#,3,4,#,#,5,#,#,\n",
      "Deserialized Root Value: 1\n"
     ]
    }
   ],
   "source": [
    "class TreeNode:\n",
    "    def __init__(self, val=0, left=None, right=None):\n",
    "        self.val = val\n",
    "        self.left = left\n",
    "        self.right = right\n",
    "\n",
    "class Codec:\n",
    "    def serialize(self, root):\n",
    "        def dfs(node):\n",
    "            if not node:\n",
    "                return \"#,\"\n",
    "            return str(node.val) + \",\" + dfs(node.left) + dfs(node.right)\n",
    "        return dfs(root)\n",
    "\n",
    "    def deserialize(self, data):\n",
    "        values = data.split(',')\n",
    "        self.index = 0\n",
    "\n",
    "        def build():\n",
    "            if self.index >= len(values):\n",
    "                return None\n",
    "            val = values[self.index]\n",
    "            self.index += 1\n",
    "            if val == \"#\":\n",
    "                return None\n",
    "            node = TreeNode(int(val))\n",
    "            node.left = build()\n",
    "            node.right = build()\n",
    "            return node\n",
    "\n",
    "        return build()\n",
    "\n",
    "tree = TreeNode(1)\n",
    "tree.left = TreeNode(2)\n",
    "tree.right = TreeNode(3)\n",
    "tree.right.left = TreeNode(4)\n",
    "tree.right.right = TreeNode(5)\n",
    "\n",
    "codec = Codec()\n",
    "serialized = codec.serialize(tree)\n",
    "print(\"Serialized Tree:\", serialized)\n",
    "\n",
    "deserialized_tree = codec.deserialize(serialized)\n",
    "print(\"Deserialized Root Value:\", deserialized_tree.val)"
   ]
  },
  {
   "cell_type": "code",
   "execution_count": 4,
   "id": "1e382e80-6d4f-4a04-8b8e-1b0ee89da004",
   "metadata": {},
   "outputs": [
    {
     "name": "stdout",
     "output_type": "stream",
     "text": [
      "The maximum possible flow is: 23\n"
     ]
    }
   ],
   "source": [
    "from collections import deque\n",
    "\n",
    "def bfs(rGraph, s, t, parent):\n",
    "    visited = [False] * len(rGraph)\n",
    "    queue = deque([s])\n",
    "    visited[s] = True\n",
    "\n",
    "    while queue:\n",
    "        u = queue.popleft()\n",
    "        for v, capacity in enumerate(rGraph[u]):\n",
    "            if not visited[v] and capacity > 0:\n",
    "                queue.append(v)\n",
    "                visited[v] = True\n",
    "                parent[v] = u\n",
    "                if v == t:\n",
    "                    return True\n",
    "    return False\n",
    "\n",
    "def ford_fulkerson(graph, source, sink):\n",
    "    n = len(graph)\n",
    "    rGraph = [row[:] for row in graph]  \n",
    "    parent = [-1] * n\n",
    "    max_flow = 0\n",
    "\n",
    "    while bfs(rGraph, source, sink, parent):\n",
    "        path_flow = float('inf')\n",
    "        s = sink\n",
    "        while s != source:\n",
    "            path_flow = min(path_flow, rGraph[parent[s]][s])\n",
    "            s = parent[s]\n",
    "\n",
    "        v = sink\n",
    "        while v != source:\n",
    "            u = parent[v]\n",
    "            rGraph[u][v] -= path_flow\n",
    "            rGraph[v][u] += path_flow\n",
    "            v = parent[v]\n",
    "\n",
    "        max_flow += path_flow\n",
    "\n",
    "    return max_flow\n",
    "\n",
    "graph = [\n",
    "    [0, 16, 13, 0, 0, 0],\n",
    "    [0, 0, 10, 12, 0, 0],\n",
    "    [0, 4, 0, 0, 14, 0],\n",
    "    [0, 0, 9, 0, 0, 20],\n",
    "    [0, 0, 0, 7, 0, 4],\n",
    "    [0, 0, 0, 0, 0, 0]\n",
    "]\n",
    "\n",
    "source = 0\n",
    "sink = 5\n",
    "max_flow = ford_fulkerson(graph, source, sink)\n",
    "print(\"The maximum possible flow is:\", max_flow)\n"
   ]
  },
  {
   "cell_type": "code",
   "execution_count": 5,
   "id": "1970aafc-1be1-4287-990d-a4aa362ed7d9",
   "metadata": {},
   "outputs": [
    {
     "name": "stdout",
     "output_type": "stream",
     "text": [
      "Edit Distance between 'kitten' and 'sitting' is: 3\n"
     ]
    }
   ],
   "source": [
    "def edit_distance(str1, str2):\n",
    "    m, n = len(str1), len(str2)\n",
    "    \n",
    "    dp = [[0] * (n + 1) for _ in range(m + 1)]\n",
    "    \n",
    "    for i in range(m + 1):\n",
    "        dp[i][0] = i  \n",
    "    for j in range(n + 1):\n",
    "        dp[0][j] = j \n",
    "    \n",
    "    for i in range(1, m + 1):\n",
    "        for j in range(1, n + 1):\n",
    "            if str1[i - 1] == str2[j - 1]:\n",
    "                dp[i][j] = dp[i - 1][j - 1]  \n",
    "            else:\n",
    "                dp[i][j] = 1 + min(\n",
    "                    dp[i - 1][j],  \n",
    "                    dp[i][j - 1],    \n",
    "                    dp[i - 1][j - 1] \n",
    "                )\n",
    "    \n",
    "    return dp[m][n]\n",
    "\n",
    "s1 = \"kitten\"\n",
    "s2 = \"sitting\"\n",
    "distance = edit_distance(s1, s2)\n",
    "print(f\"Edit Distance between '{s1}' and '{s2}' is:\", distance)\n"
   ]
  },
  {
   "cell_type": "code",
   "execution_count": 7,
   "id": "c990c093-c7c6-4181-bf26-b566e52ae4b2",
   "metadata": {},
   "outputs": [
    {
     "name": "stdout",
     "output_type": "stream",
     "text": [
      "The 3-th smallest element in the BST is: 3\n"
     ]
    }
   ],
   "source": [
    "class TreeNode:\n",
    "    def __init__(self, val=0, left=None, right=None):\n",
    "        self.val = val\n",
    "        self.left = left\n",
    "        self.right = right\n",
    "\n",
    "def kth_smallest(root, k):\n",
    "    stack = []\n",
    "    current = root\n",
    "\n",
    "    while True:\n",
    "        \n",
    "        while current:\n",
    "            stack.append(current)\n",
    "            current = current.left\n",
    "\n",
    "        current = stack.pop()\n",
    "        k -= 1\n",
    "        if k == 0:\n",
    "            return current.val\n",
    "\n",
    "        current = current.right\n",
    "\n",
    "\n",
    "root = TreeNode(5)\n",
    "root.left = TreeNode(3, TreeNode(2, TreeNode(1)), TreeNode(4))\n",
    "root.right = TreeNode(6)\n",
    "\n",
    "k = 3\n",
    "result = kth_smallest(root, k)\n",
    "print(f\"The {k}-th smallest element in the BST is:\", result)\n",
    "\n"
   ]
  },
  {
   "cell_type": "code",
   "execution_count": 12,
   "id": "1eaccbd2-ba42-4b66-9a37-655ebe5a68cf",
   "metadata": {},
   "outputs": [
    {
     "name": "stdout",
     "output_type": "stream",
     "text": [
      "Maximum Product Subarray: 6\n"
     ]
    }
   ],
   "source": [
    "def max_product_subarray(nums):\n",
    "    if not nums:\n",
    "        return 0\n",
    "\n",
    "    max_prod = min_prod = result = nums[0]\n",
    "\n",
    "    for i in range(1, len(nums)):\n",
    "        curr = nums[i]\n",
    "\n",
    "        if curr < 0:\n",
    "            max_prod, min_prod = min_prod, max_prod  \n",
    "\n",
    "        max_prod = max(curr, curr * max_prod)\n",
    "        min_prod = min(curr, curr * min_prod)\n",
    "\n",
    "        result = max(result, max_prod)\n",
    "\n",
    "    return result\n",
    "\n",
    "\n",
    "arr = [2, 3, -2, 4]\n",
    "print(\"Maximum Product Subarray:\", max_product_subarray(arr))\n"
   ]
  },
  {
   "cell_type": "code",
   "execution_count": 14,
   "id": "e881a237-a8a1-498c-ae44-dd4179f6c998",
   "metadata": {},
   "outputs": [
    {
     "name": "stdout",
     "output_type": "stream",
     "text": [
      "All paths from A to E:\n",
      "['A', 'B', 'C', 'D', 'E']\n",
      "['A', 'B', 'D', 'E']\n",
      "['A', 'C', 'D', 'E']\n"
     ]
    }
   ],
   "source": [
    "def find_all_paths(graph, start, end):\n",
    "    def dfs(current, path):\n",
    "        if current == end:\n",
    "            all_paths.append(path[:])\n",
    "            return\n",
    "        for neighbor in graph.get(current, []):\n",
    "            if neighbor not in path:  \n",
    "                path.append(neighbor)\n",
    "                dfs(neighbor, path)\n",
    "                path.pop()  \n",
    "    all_paths = []\n",
    "    dfs(start, [start])\n",
    "    return all_paths\n",
    "graph = {\n",
    "    'A': ['B', 'C'],\n",
    "    'B': ['C', 'D'],\n",
    "    'C': ['D'],\n",
    "    'D': ['E'],\n",
    "    'E': []\n",
    "}\n",
    "start_node = 'A'\n",
    "end_node = 'E'\n",
    "paths = find_all_paths(graph, start_node, end_node)\n",
    "print(f\"All paths from {start_node} to {end_node}:\")\n",
    "for path in paths:\n",
    "    print(path)"
   ]
  },
  {
   "cell_type": "code",
   "execution_count": 10,
   "id": "21404c8b-2481-4167-b6bf-a10c3d03d756",
   "metadata": {},
   "outputs": [
    {
     "name": "stdout",
     "output_type": "stream",
     "text": [
      "Serialized:\n",
      " {name=\"Alice\";age=30;skills=[\"Python\";\"C++\";\"Go\"];address={city=\"Wonderland\";zip=12345}}\n",
      "\n",
      "Deserialized:\n",
      " {'name': 'Alice', 'age': 30, 'skills': ['Python', 'C++', 'Go'], 'address': {'city': 'Wonderland', 'zip': 12345}}\n"
     ]
    }
   ],
   "source": [
    "\n",
    "def serialize(data):\n",
    "    if isinstance(data, dict):\n",
    "        return '{' + ';'.join(f\"{k}={serialize(v)}\" for k, v in data.items()) + '}'\n",
    "    elif isinstance(data, list):\n",
    "        return '[' + ';'.join(serialize(i) for i in data) + ']'\n",
    "    elif isinstance(data, str):\n",
    "        return f'\"{data}\"'\n",
    "    else:\n",
    "        return str(data)\n",
    "\n",
    "def deserialize(s):\n",
    "    def parse_value(idx):\n",
    "        if s[idx] == '{':\n",
    "            idx += 1\n",
    "            obj = {}\n",
    "            while s[idx] != '}':\n",
    "                key, idx = parse_key(idx)\n",
    "                if s[idx] != '=':\n",
    "                    raise ValueError(\"Expected '=' after key\")\n",
    "                idx += 1\n",
    "                value, idx = parse_value(idx)\n",
    "                obj[key] = value\n",
    "                if s[idx] == ';':\n",
    "                    idx += 1\n",
    "            return obj, idx + 1\n",
    "        elif s[idx] == '[':\n",
    "            idx += 1\n",
    "            arr = []\n",
    "            while s[idx] != ']':\n",
    "                value, idx = parse_value(idx)\n",
    "                arr.append(value)\n",
    "                if s[idx] == ';':\n",
    "                    idx += 1\n",
    "            return arr, idx + 1\n",
    "        elif s[idx] == '\"':\n",
    "            idx += 1\n",
    "            start = idx\n",
    "            while s[idx] != '\"':\n",
    "                idx += 1\n",
    "            return s[start:idx], idx + 1\n",
    "        else:\n",
    "            start = idx\n",
    "            while idx < len(s) and s[idx] not in [';', '}', ']']:\n",
    "                idx += 1\n",
    "            token = s[start:idx]\n",
    "            return int(token) if token.isdigit() else token, idx\n",
    "\n",
    "    def parse_key(idx):\n",
    "        start = idx\n",
    "        while s[idx] not in ['=']:\n",
    "            idx += 1\n",
    "        return s[start:idx], idx\n",
    "\n",
    "    result, final_idx = parse_value(0)\n",
    "    return result\n",
    "\n",
    "\n",
    "data = {\n",
    "    'name': 'Alice',\n",
    "    'age': 30,\n",
    "    'skills': ['Python', 'C++', 'Go'],\n",
    "    'address': {\n",
    "        'city': 'Wonderland',\n",
    "        'zip': 12345\n",
    "    }\n",
    "}\n",
    "\n",
    "serialized = serialize(data)\n",
    "print(\"Serialized:\\n\", serialized)\n",
    "\n",
    "deserialized = deserialize(serialized)\n",
    "print(\"\\nDeserialized:\\n\", deserialized)\n"
   ]
  },
  {
   "cell_type": "code",
   "execution_count": 11,
   "id": "14b8b175-f98f-4b3d-994a-3e07284c5fe8",
   "metadata": {},
   "outputs": [
    {
     "name": "stdout",
     "output_type": "stream",
     "text": [
      "{x=[1;2;{y=\"Z\"}];flag=\"on\"}\n",
      "{'x': [1, 2, {'y': 'Z'}], 'flag': 'on'}\n"
     ]
    }
   ],
   "source": [
    "test_data = {'x': [1, 2, {'y': 'Z'}], 'flag': 'on'}\n",
    "print(serialize(test_data))\n",
    "print(deserialize(serialize(test_data)))\n"
   ]
  },
  {
   "cell_type": "code",
   "execution_count": null,
   "id": "6662ed3b-77f3-44f7-bb91-32b6eb63204c",
   "metadata": {},
   "outputs": [],
   "source": []
  }
 ],
 "metadata": {
  "kernelspec": {
   "display_name": "Python [conda env:base] *",
   "language": "python",
   "name": "conda-base-py"
  },
  "language_info": {
   "codemirror_mode": {
    "name": "ipython",
    "version": 3
   },
   "file_extension": ".py",
   "mimetype": "text/x-python",
   "name": "python",
   "nbconvert_exporter": "python",
   "pygments_lexer": "ipython3",
   "version": "3.12.7"
  }
 },
 "nbformat": 4,
 "nbformat_minor": 5
}
